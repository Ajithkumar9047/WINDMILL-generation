{
  "nbformat": 4,
  "nbformat_minor": 0,
  "metadata": {
    "colab": {
      "provenance": [],
      "include_colab_link": true
    },
    "kernelspec": {
      "name": "python3",
      "display_name": "Python 3"
    },
    "language_info": {
      "name": "python"
    }
  },
  "cells": [
    {
      "cell_type": "markdown",
      "metadata": {
        "id": "view-in-github",
        "colab_type": "text"
      },
      "source": [
        "<a href=\"https://colab.research.google.com/github/Ajithkumar9047/WINDMILL-generation/blob/main/Untitled1.ipynb\" target=\"_parent\"><img src=\"https://colab.research.google.com/assets/colab-badge.svg\" alt=\"Open In Colab\"/></a>"
      ]
    },
    {
      "cell_type": "markdown",
      "source": [
        "# **ABOUT DATA SET**\n",
        "Data set of wind mill generation for different places\n",
        "\n",
        "WEC-windmill name\n",
        "\n",
        "WEC Type ---unique model type /peace capacity\n",
        "\n",
        "GENERATION---total generation per day\n",
        "\n",
        "site---seperate place of windmill presented\n"
      ],
      "metadata": {
        "id": "7ovmP8IPW6LC"
      }
    },
    {
      "cell_type": "markdown",
      "source": [
        "# **Cleaning** **datas**"
      ],
      "metadata": {
        "id": "QqigmPKcO861"
      }
    },
    {
      "cell_type": "code",
      "execution_count": null,
      "metadata": {
        "colab": {
          "base_uri": "https://localhost:8080/",
          "height": 206
        },
        "id": "cc6_u9BAfaG9",
        "outputId": "b8de251d-57d0-40c7-f45e-cd81b781e6d9"
      },
      "outputs": [
        {
          "output_type": "execute_result",
          "data": {
            "text/plain": [
              "   Sr. No        DATE             WEC  WEC Type  GENERATION  \\\n",
              "0       1  01/04/2013  TEXOTI-01 (67)  E-53/800        1593   \n",
              "1       2  01/04/2013  TEXOJD-02 (40)  E-53/800        2364   \n",
              "2       3  01/04/2013      TEXONIC-01  E-40/600        1202   \n",
              "3       4  01/04/2013      TEXONIC-02  E-40/600        1375   \n",
              "4       5  01/04/2013  TEXODH-01 (21)  E-48/800        1278   \n",
              "\n",
              "                SITE     STATE   \n",
              "0            TINWARI  RAJASTHAN  \n",
              "1  PITHODAI KI DHANI  RAJASTHAN  \n",
              "2      TANDAYARKULAM  TAMILNADU  \n",
              "3      TANDAYARKULAM  TAMILNADU  \n",
              "4         DHARAPURAM  TAMILNADU  "
            ],
            "text/html": [
              "\n",
              "  <div id=\"df-ea406d33-0cc5-4d7d-bc78-61fb2ba32dec\">\n",
              "    <div class=\"colab-df-container\">\n",
              "      <div>\n",
              "<style scoped>\n",
              "    .dataframe tbody tr th:only-of-type {\n",
              "        vertical-align: middle;\n",
              "    }\n",
              "\n",
              "    .dataframe tbody tr th {\n",
              "        vertical-align: top;\n",
              "    }\n",
              "\n",
              "    .dataframe thead th {\n",
              "        text-align: right;\n",
              "    }\n",
              "</style>\n",
              "<table border=\"1\" class=\"dataframe\">\n",
              "  <thead>\n",
              "    <tr style=\"text-align: right;\">\n",
              "      <th></th>\n",
              "      <th>Sr. No</th>\n",
              "      <th>DATE</th>\n",
              "      <th>WEC</th>\n",
              "      <th>WEC Type</th>\n",
              "      <th>GENERATION</th>\n",
              "      <th>SITE</th>\n",
              "      <th>STATE</th>\n",
              "    </tr>\n",
              "  </thead>\n",
              "  <tbody>\n",
              "    <tr>\n",
              "      <th>0</th>\n",
              "      <td>1</td>\n",
              "      <td>01/04/2013</td>\n",
              "      <td>TEXOTI-01 (67)</td>\n",
              "      <td>E-53/800</td>\n",
              "      <td>1593</td>\n",
              "      <td>TINWARI</td>\n",
              "      <td>RAJASTHAN</td>\n",
              "    </tr>\n",
              "    <tr>\n",
              "      <th>1</th>\n",
              "      <td>2</td>\n",
              "      <td>01/04/2013</td>\n",
              "      <td>TEXOJD-02 (40)</td>\n",
              "      <td>E-53/800</td>\n",
              "      <td>2364</td>\n",
              "      <td>PITHODAI KI DHANI</td>\n",
              "      <td>RAJASTHAN</td>\n",
              "    </tr>\n",
              "    <tr>\n",
              "      <th>2</th>\n",
              "      <td>3</td>\n",
              "      <td>01/04/2013</td>\n",
              "      <td>TEXONIC-01</td>\n",
              "      <td>E-40/600</td>\n",
              "      <td>1202</td>\n",
              "      <td>TANDAYARKULAM</td>\n",
              "      <td>TAMILNADU</td>\n",
              "    </tr>\n",
              "    <tr>\n",
              "      <th>3</th>\n",
              "      <td>4</td>\n",
              "      <td>01/04/2013</td>\n",
              "      <td>TEXONIC-02</td>\n",
              "      <td>E-40/600</td>\n",
              "      <td>1375</td>\n",
              "      <td>TANDAYARKULAM</td>\n",
              "      <td>TAMILNADU</td>\n",
              "    </tr>\n",
              "    <tr>\n",
              "      <th>4</th>\n",
              "      <td>5</td>\n",
              "      <td>01/04/2013</td>\n",
              "      <td>TEXODH-01 (21)</td>\n",
              "      <td>E-48/800</td>\n",
              "      <td>1278</td>\n",
              "      <td>DHARAPURAM</td>\n",
              "      <td>TAMILNADU</td>\n",
              "    </tr>\n",
              "  </tbody>\n",
              "</table>\n",
              "</div>\n",
              "      <button class=\"colab-df-convert\" onclick=\"convertToInteractive('df-ea406d33-0cc5-4d7d-bc78-61fb2ba32dec')\"\n",
              "              title=\"Convert this dataframe to an interactive table.\"\n",
              "              style=\"display:none;\">\n",
              "        \n",
              "  <svg xmlns=\"http://www.w3.org/2000/svg\" height=\"24px\"viewBox=\"0 0 24 24\"\n",
              "       width=\"24px\">\n",
              "    <path d=\"M0 0h24v24H0V0z\" fill=\"none\"/>\n",
              "    <path d=\"M18.56 5.44l.94 2.06.94-2.06 2.06-.94-2.06-.94-.94-2.06-.94 2.06-2.06.94zm-11 1L8.5 8.5l.94-2.06 2.06-.94-2.06-.94L8.5 2.5l-.94 2.06-2.06.94zm10 10l.94 2.06.94-2.06 2.06-.94-2.06-.94-.94-2.06-.94 2.06-2.06.94z\"/><path d=\"M17.41 7.96l-1.37-1.37c-.4-.4-.92-.59-1.43-.59-.52 0-1.04.2-1.43.59L10.3 9.45l-7.72 7.72c-.78.78-.78 2.05 0 2.83L4 21.41c.39.39.9.59 1.41.59.51 0 1.02-.2 1.41-.59l7.78-7.78 2.81-2.81c.8-.78.8-2.07 0-2.86zM5.41 20L4 18.59l7.72-7.72 1.47 1.35L5.41 20z\"/>\n",
              "  </svg>\n",
              "      </button>\n",
              "      \n",
              "  <style>\n",
              "    .colab-df-container {\n",
              "      display:flex;\n",
              "      flex-wrap:wrap;\n",
              "      gap: 12px;\n",
              "    }\n",
              "\n",
              "    .colab-df-convert {\n",
              "      background-color: #E8F0FE;\n",
              "      border: none;\n",
              "      border-radius: 50%;\n",
              "      cursor: pointer;\n",
              "      display: none;\n",
              "      fill: #1967D2;\n",
              "      height: 32px;\n",
              "      padding: 0 0 0 0;\n",
              "      width: 32px;\n",
              "    }\n",
              "\n",
              "    .colab-df-convert:hover {\n",
              "      background-color: #E2EBFA;\n",
              "      box-shadow: 0px 1px 2px rgba(60, 64, 67, 0.3), 0px 1px 3px 1px rgba(60, 64, 67, 0.15);\n",
              "      fill: #174EA6;\n",
              "    }\n",
              "\n",
              "    [theme=dark] .colab-df-convert {\n",
              "      background-color: #3B4455;\n",
              "      fill: #D2E3FC;\n",
              "    }\n",
              "\n",
              "    [theme=dark] .colab-df-convert:hover {\n",
              "      background-color: #434B5C;\n",
              "      box-shadow: 0px 1px 3px 1px rgba(0, 0, 0, 0.15);\n",
              "      filter: drop-shadow(0px 1px 2px rgba(0, 0, 0, 0.3));\n",
              "      fill: #FFFFFF;\n",
              "    }\n",
              "  </style>\n",
              "\n",
              "      <script>\n",
              "        const buttonEl =\n",
              "          document.querySelector('#df-ea406d33-0cc5-4d7d-bc78-61fb2ba32dec button.colab-df-convert');\n",
              "        buttonEl.style.display =\n",
              "          google.colab.kernel.accessAllowed ? 'block' : 'none';\n",
              "\n",
              "        async function convertToInteractive(key) {\n",
              "          const element = document.querySelector('#df-ea406d33-0cc5-4d7d-bc78-61fb2ba32dec');\n",
              "          const dataTable =\n",
              "            await google.colab.kernel.invokeFunction('convertToInteractive',\n",
              "                                                     [key], {});\n",
              "          if (!dataTable) return;\n",
              "\n",
              "          const docLinkHtml = 'Like what you see? Visit the ' +\n",
              "            '<a target=\"_blank\" href=https://colab.research.google.com/notebooks/data_table.ipynb>data table notebook</a>'\n",
              "            + ' to learn more about interactive tables.';\n",
              "          element.innerHTML = '';\n",
              "          dataTable['output_type'] = 'display_data';\n",
              "          await google.colab.output.renderOutput(dataTable, element);\n",
              "          const docLink = document.createElement('div');\n",
              "          docLink.innerHTML = docLinkHtml;\n",
              "          element.appendChild(docLink);\n",
              "        }\n",
              "      </script>\n",
              "    </div>\n",
              "  </div>\n",
              "  "
            ]
          },
          "metadata": {},
          "execution_count": 277
        }
      ],
      "source": [
        "import pandas as pd\n",
        "dfc=pd.read_csv(\"/content/AllWindData Test.xlsx - v1(time and date format).csv\")\n",
        "dfc.head()"
      ]
    },
    {
      "cell_type": "code",
      "source": [
        "df=dfc.copy()\n",
        "df"
      ],
      "metadata": {
        "id": "kaJydQaxxP1Q",
        "colab": {
          "base_uri": "https://localhost:8080/",
          "height": 423
        },
        "outputId": "afaea9ec-b1c7-4c2c-c658-9e5e13d8e1a7"
      },
      "execution_count": null,
      "outputs": [
        {
          "output_type": "execute_result",
          "data": {
            "text/plain": [
              "       Sr. No        DATE              WEC  WEC Type  GENERATION  \\\n",
              "0           1  01/04/2013   TEXOTI-01 (67)  E-53/800        1593   \n",
              "1           2  01/04/2013   TEXOJD-02 (40)  E-53/800        2364   \n",
              "2           3  01/04/2013       TEXONIC-01  E-40/600        1202   \n",
              "3           4  01/04/2013       TEXONIC-02  E-40/600        1375   \n",
              "4           5  01/04/2013   TEXODH-01 (21)  E-48/800        1278   \n",
              "...       ...         ...              ...       ...         ...   \n",
              "31140   31141  01/01/2021   TEXONE-01 (20)  E-48/800         605   \n",
              "31141   31142  01/01/2021   TEXOPU-01 (41)  E-48/800         590   \n",
              "31142   31143  01/01/2021   TEXOPU-02 (11)  E-48/800         616   \n",
              "31143   31144  01/01/2021  TEXOPU-03 (312)  E-53/800         292   \n",
              "31144   31145  01/01/2021   TEXOTP-01 (51)  E-53/800        1805   \n",
              "\n",
              "                    SITE          STATE   \n",
              "0                TINWARI       RAJASTHAN  \n",
              "1      PITHODAI KI DHANI       RAJASTHAN  \n",
              "2          TANDAYARKULAM       TAMILNADU  \n",
              "3          TANDAYARKULAM       TAMILNADU  \n",
              "4             DHARAPURAM       TAMILNADU  \n",
              "...                  ...             ...  \n",
              "31140             NETTUR       TAMILNADU  \n",
              "31141         PUSHPATHUR       TAMILNADU  \n",
              "31142         PUSHPATHUR       TAMILNADU  \n",
              "31143         PUSHPATHUR       TAMILNADU  \n",
              "31144          TADIPATRI  ANDHRA PRADESH  \n",
              "\n",
              "[31145 rows x 7 columns]"
            ],
            "text/html": [
              "\n",
              "  <div id=\"df-f08f7192-af3d-4d73-be0b-34c3199d2efc\">\n",
              "    <div class=\"colab-df-container\">\n",
              "      <div>\n",
              "<style scoped>\n",
              "    .dataframe tbody tr th:only-of-type {\n",
              "        vertical-align: middle;\n",
              "    }\n",
              "\n",
              "    .dataframe tbody tr th {\n",
              "        vertical-align: top;\n",
              "    }\n",
              "\n",
              "    .dataframe thead th {\n",
              "        text-align: right;\n",
              "    }\n",
              "</style>\n",
              "<table border=\"1\" class=\"dataframe\">\n",
              "  <thead>\n",
              "    <tr style=\"text-align: right;\">\n",
              "      <th></th>\n",
              "      <th>Sr. No</th>\n",
              "      <th>DATE</th>\n",
              "      <th>WEC</th>\n",
              "      <th>WEC Type</th>\n",
              "      <th>GENERATION</th>\n",
              "      <th>SITE</th>\n",
              "      <th>STATE</th>\n",
              "    </tr>\n",
              "  </thead>\n",
              "  <tbody>\n",
              "    <tr>\n",
              "      <th>0</th>\n",
              "      <td>1</td>\n",
              "      <td>01/04/2013</td>\n",
              "      <td>TEXOTI-01 (67)</td>\n",
              "      <td>E-53/800</td>\n",
              "      <td>1593</td>\n",
              "      <td>TINWARI</td>\n",
              "      <td>RAJASTHAN</td>\n",
              "    </tr>\n",
              "    <tr>\n",
              "      <th>1</th>\n",
              "      <td>2</td>\n",
              "      <td>01/04/2013</td>\n",
              "      <td>TEXOJD-02 (40)</td>\n",
              "      <td>E-53/800</td>\n",
              "      <td>2364</td>\n",
              "      <td>PITHODAI KI DHANI</td>\n",
              "      <td>RAJASTHAN</td>\n",
              "    </tr>\n",
              "    <tr>\n",
              "      <th>2</th>\n",
              "      <td>3</td>\n",
              "      <td>01/04/2013</td>\n",
              "      <td>TEXONIC-01</td>\n",
              "      <td>E-40/600</td>\n",
              "      <td>1202</td>\n",
              "      <td>TANDAYARKULAM</td>\n",
              "      <td>TAMILNADU</td>\n",
              "    </tr>\n",
              "    <tr>\n",
              "      <th>3</th>\n",
              "      <td>4</td>\n",
              "      <td>01/04/2013</td>\n",
              "      <td>TEXONIC-02</td>\n",
              "      <td>E-40/600</td>\n",
              "      <td>1375</td>\n",
              "      <td>TANDAYARKULAM</td>\n",
              "      <td>TAMILNADU</td>\n",
              "    </tr>\n",
              "    <tr>\n",
              "      <th>4</th>\n",
              "      <td>5</td>\n",
              "      <td>01/04/2013</td>\n",
              "      <td>TEXODH-01 (21)</td>\n",
              "      <td>E-48/800</td>\n",
              "      <td>1278</td>\n",
              "      <td>DHARAPURAM</td>\n",
              "      <td>TAMILNADU</td>\n",
              "    </tr>\n",
              "    <tr>\n",
              "      <th>...</th>\n",
              "      <td>...</td>\n",
              "      <td>...</td>\n",
              "      <td>...</td>\n",
              "      <td>...</td>\n",
              "      <td>...</td>\n",
              "      <td>...</td>\n",
              "      <td>...</td>\n",
              "    </tr>\n",
              "    <tr>\n",
              "      <th>31140</th>\n",
              "      <td>31141</td>\n",
              "      <td>01/01/2021</td>\n",
              "      <td>TEXONE-01 (20)</td>\n",
              "      <td>E-48/800</td>\n",
              "      <td>605</td>\n",
              "      <td>NETTUR</td>\n",
              "      <td>TAMILNADU</td>\n",
              "    </tr>\n",
              "    <tr>\n",
              "      <th>31141</th>\n",
              "      <td>31142</td>\n",
              "      <td>01/01/2021</td>\n",
              "      <td>TEXOPU-01 (41)</td>\n",
              "      <td>E-48/800</td>\n",
              "      <td>590</td>\n",
              "      <td>PUSHPATHUR</td>\n",
              "      <td>TAMILNADU</td>\n",
              "    </tr>\n",
              "    <tr>\n",
              "      <th>31142</th>\n",
              "      <td>31143</td>\n",
              "      <td>01/01/2021</td>\n",
              "      <td>TEXOPU-02 (11)</td>\n",
              "      <td>E-48/800</td>\n",
              "      <td>616</td>\n",
              "      <td>PUSHPATHUR</td>\n",
              "      <td>TAMILNADU</td>\n",
              "    </tr>\n",
              "    <tr>\n",
              "      <th>31143</th>\n",
              "      <td>31144</td>\n",
              "      <td>01/01/2021</td>\n",
              "      <td>TEXOPU-03 (312)</td>\n",
              "      <td>E-53/800</td>\n",
              "      <td>292</td>\n",
              "      <td>PUSHPATHUR</td>\n",
              "      <td>TAMILNADU</td>\n",
              "    </tr>\n",
              "    <tr>\n",
              "      <th>31144</th>\n",
              "      <td>31145</td>\n",
              "      <td>01/01/2021</td>\n",
              "      <td>TEXOTP-01 (51)</td>\n",
              "      <td>E-53/800</td>\n",
              "      <td>1805</td>\n",
              "      <td>TADIPATRI</td>\n",
              "      <td>ANDHRA PRADESH</td>\n",
              "    </tr>\n",
              "  </tbody>\n",
              "</table>\n",
              "<p>31145 rows × 7 columns</p>\n",
              "</div>\n",
              "      <button class=\"colab-df-convert\" onclick=\"convertToInteractive('df-f08f7192-af3d-4d73-be0b-34c3199d2efc')\"\n",
              "              title=\"Convert this dataframe to an interactive table.\"\n",
              "              style=\"display:none;\">\n",
              "        \n",
              "  <svg xmlns=\"http://www.w3.org/2000/svg\" height=\"24px\"viewBox=\"0 0 24 24\"\n",
              "       width=\"24px\">\n",
              "    <path d=\"M0 0h24v24H0V0z\" fill=\"none\"/>\n",
              "    <path d=\"M18.56 5.44l.94 2.06.94-2.06 2.06-.94-2.06-.94-.94-2.06-.94 2.06-2.06.94zm-11 1L8.5 8.5l.94-2.06 2.06-.94-2.06-.94L8.5 2.5l-.94 2.06-2.06.94zm10 10l.94 2.06.94-2.06 2.06-.94-2.06-.94-.94-2.06-.94 2.06-2.06.94z\"/><path d=\"M17.41 7.96l-1.37-1.37c-.4-.4-.92-.59-1.43-.59-.52 0-1.04.2-1.43.59L10.3 9.45l-7.72 7.72c-.78.78-.78 2.05 0 2.83L4 21.41c.39.39.9.59 1.41.59.51 0 1.02-.2 1.41-.59l7.78-7.78 2.81-2.81c.8-.78.8-2.07 0-2.86zM5.41 20L4 18.59l7.72-7.72 1.47 1.35L5.41 20z\"/>\n",
              "  </svg>\n",
              "      </button>\n",
              "      \n",
              "  <style>\n",
              "    .colab-df-container {\n",
              "      display:flex;\n",
              "      flex-wrap:wrap;\n",
              "      gap: 12px;\n",
              "    }\n",
              "\n",
              "    .colab-df-convert {\n",
              "      background-color: #E8F0FE;\n",
              "      border: none;\n",
              "      border-radius: 50%;\n",
              "      cursor: pointer;\n",
              "      display: none;\n",
              "      fill: #1967D2;\n",
              "      height: 32px;\n",
              "      padding: 0 0 0 0;\n",
              "      width: 32px;\n",
              "    }\n",
              "\n",
              "    .colab-df-convert:hover {\n",
              "      background-color: #E2EBFA;\n",
              "      box-shadow: 0px 1px 2px rgba(60, 64, 67, 0.3), 0px 1px 3px 1px rgba(60, 64, 67, 0.15);\n",
              "      fill: #174EA6;\n",
              "    }\n",
              "\n",
              "    [theme=dark] .colab-df-convert {\n",
              "      background-color: #3B4455;\n",
              "      fill: #D2E3FC;\n",
              "    }\n",
              "\n",
              "    [theme=dark] .colab-df-convert:hover {\n",
              "      background-color: #434B5C;\n",
              "      box-shadow: 0px 1px 3px 1px rgba(0, 0, 0, 0.15);\n",
              "      filter: drop-shadow(0px 1px 2px rgba(0, 0, 0, 0.3));\n",
              "      fill: #FFFFFF;\n",
              "    }\n",
              "  </style>\n",
              "\n",
              "      <script>\n",
              "        const buttonEl =\n",
              "          document.querySelector('#df-f08f7192-af3d-4d73-be0b-34c3199d2efc button.colab-df-convert');\n",
              "        buttonEl.style.display =\n",
              "          google.colab.kernel.accessAllowed ? 'block' : 'none';\n",
              "\n",
              "        async function convertToInteractive(key) {\n",
              "          const element = document.querySelector('#df-f08f7192-af3d-4d73-be0b-34c3199d2efc');\n",
              "          const dataTable =\n",
              "            await google.colab.kernel.invokeFunction('convertToInteractive',\n",
              "                                                     [key], {});\n",
              "          if (!dataTable) return;\n",
              "\n",
              "          const docLinkHtml = 'Like what you see? Visit the ' +\n",
              "            '<a target=\"_blank\" href=https://colab.research.google.com/notebooks/data_table.ipynb>data table notebook</a>'\n",
              "            + ' to learn more about interactive tables.';\n",
              "          element.innerHTML = '';\n",
              "          dataTable['output_type'] = 'display_data';\n",
              "          await google.colab.output.renderOutput(dataTable, element);\n",
              "          const docLink = document.createElement('div');\n",
              "          docLink.innerHTML = docLinkHtml;\n",
              "          element.appendChild(docLink);\n",
              "        }\n",
              "      </script>\n",
              "    </div>\n",
              "  </div>\n",
              "  "
            ]
          },
          "metadata": {},
          "execution_count": 278
        }
      ]
    },
    {
      "cell_type": "code",
      "source": [
        "df=df.drop([\"Sr. No\"],axis=1)"
      ],
      "metadata": {
        "id": "H0_J8vaoL-jN"
      },
      "execution_count": null,
      "outputs": []
    },
    {
      "cell_type": "code",
      "source": [
        "df.info()"
      ],
      "metadata": {
        "id": "GwSYrFA2hSfp",
        "colab": {
          "base_uri": "https://localhost:8080/"
        },
        "outputId": "9f97f428-b40c-4356-d42b-38726dc5ea3d"
      },
      "execution_count": null,
      "outputs": [
        {
          "output_type": "stream",
          "name": "stdout",
          "text": [
            "<class 'pandas.core.frame.DataFrame'>\n",
            "RangeIndex: 31145 entries, 0 to 31144\n",
            "Data columns (total 6 columns):\n",
            " #   Column      Non-Null Count  Dtype \n",
            "---  ------      --------------  ----- \n",
            " 0   DATE        31145 non-null  object\n",
            " 1   WEC         31145 non-null  object\n",
            " 2   WEC Type    31145 non-null  object\n",
            " 3   GENERATION  31145 non-null  int64 \n",
            " 4   SITE        31145 non-null  object\n",
            " 5   STATE       31145 non-null  object\n",
            "dtypes: int64(1), object(5)\n",
            "memory usage: 1.4+ MB\n"
          ]
        }
      ]
    },
    {
      "cell_type": "code",
      "source": [
        "df.shape"
      ],
      "metadata": {
        "id": "gahPwY1P7Whl",
        "colab": {
          "base_uri": "https://localhost:8080/"
        },
        "outputId": "2ecbb14c-42d9-4830-e87a-d6e879b2a259"
      },
      "execution_count": null,
      "outputs": [
        {
          "output_type": "execute_result",
          "data": {
            "text/plain": [
              "(31145, 6)"
            ]
          },
          "metadata": {},
          "execution_count": 281
        }
      ]
    },
    {
      "cell_type": "code",
      "source": [
        "df.columns"
      ],
      "metadata": {
        "id": "qU9UrQ6ncKrf",
        "colab": {
          "base_uri": "https://localhost:8080/"
        },
        "outputId": "2c9a9c8c-568b-4686-f9d4-ecc90cdd6d2f"
      },
      "execution_count": null,
      "outputs": [
        {
          "output_type": "execute_result",
          "data": {
            "text/plain": [
              "Index(['DATE', 'WEC', 'WEC Type', 'GENERATION', 'SITE', 'STATE '], dtype='object')"
            ]
          },
          "metadata": {},
          "execution_count": 282
        }
      ]
    },
    {
      "cell_type": "markdown",
      "source": [
        "Find starting and ending date of the column"
      ],
      "metadata": {
        "id": "xFm-PJIVPJVN"
      }
    },
    {
      "cell_type": "code",
      "source": [
        "st_dt=df['DATE'].min()\n",
        "end_dt=df[\"DATE\"].max()\n",
        "print(st_dt,end_dt)\n"
      ],
      "metadata": {
        "id": "49B_hdgA7wKH",
        "colab": {
          "base_uri": "https://localhost:8080/"
        },
        "outputId": "53808b2f-d1f0-4910-f4f8-73a154285d39"
      },
      "execution_count": null,
      "outputs": [
        {
          "output_type": "stream",
          "name": "stdout",
          "text": [
            "01/01/2014 31/12/2020\n"
          ]
        }
      ]
    },
    {
      "cell_type": "markdown",
      "source": [
        "Find windmill present in each state"
      ],
      "metadata": {
        "id": "jIA7Ji5dPRdD"
      }
    },
    {
      "cell_type": "code",
      "source": [
        "df.groupby('STATE ')['WEC'].value_counts()"
      ],
      "metadata": {
        "colab": {
          "base_uri": "https://localhost:8080/"
        },
        "id": "_6gY-Hq0qcs7",
        "outputId": "3f30ccda-6050-4e10-db6b-db63095313f9"
      },
      "execution_count": null,
      "outputs": [
        {
          "output_type": "execute_result",
          "data": {
            "text/plain": [
              "STATE           WEC            \n",
              "ANDHRA PRADESH  TEXOTP-01 (51)     2820\n",
              "RAJASTHAN       TEXOJD-02 (40)     2833\n",
              "                TEXOTI-01 (67)     2832\n",
              "TAMILNADU       TEXONE-01 (20)     2833\n",
              "                TEXONIC-01         2833\n",
              "                TEXONIC-02         2833\n",
              "                TEXOPU-01 (41)     2833\n",
              "                TEXOPU-02 (11)     2833\n",
              "                TEXOPU-03 (312)    2833\n",
              "                TEXODH-01 (21)     2831\n",
              "                TEXODH-02 (85)     2831\n",
              "Name: WEC, dtype: int64"
            ]
          },
          "metadata": {},
          "execution_count": 284
        }
      ]
    },
    {
      "cell_type": "code",
      "source": [
        "sd=df['STATE '].unique()\n",
        "sd"
      ],
      "metadata": {
        "id": "5DO4T350p_dd",
        "colab": {
          "base_uri": "https://localhost:8080/"
        },
        "outputId": "ee89bcfe-c735-4b67-a789-28b6b18574c4"
      },
      "execution_count": null,
      "outputs": [
        {
          "output_type": "execute_result",
          "data": {
            "text/plain": [
              "array(['RAJASTHAN', 'TAMILNADU', 'ANDHRA PRADESH'], dtype=object)"
            ]
          },
          "metadata": {},
          "execution_count": 285
        }
      ]
    },
    {
      "cell_type": "markdown",
      "source": [
        "chart for generation of each state"
      ],
      "metadata": {
        "id": "iYOUrRE0Pd5k"
      }
    },
    {
      "cell_type": "code",
      "source": [
        "df.groupby([\"STATE \"])[\"GENERATION\"].sum().plot()"
      ],
      "metadata": {
        "colab": {
          "base_uri": "https://localhost:8080/",
          "height": 308
        },
        "id": "YvCc3FVwONbr",
        "outputId": "418fc3a5-3bc2-4a2e-c443-7de0a1018c2f"
      },
      "execution_count": null,
      "outputs": [
        {
          "output_type": "execute_result",
          "data": {
            "text/plain": [
              "<AxesSubplot:xlabel='STATE '>"
            ]
          },
          "metadata": {},
          "execution_count": 286
        },
        {
          "output_type": "display_data",
          "data": {
            "text/plain": [
              "<Figure size 432x288 with 1 Axes>"
            ],
            "image/png": "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\n"
          },
          "metadata": {
            "needs_background": "light"
          }
        }
      ]
    },
    {
      "cell_type": "code",
      "source": [
        "df.groupby([\"STATE \"])[[\"SITE\",\"GENERATION\"]].mean()"
      ],
      "metadata": {
        "id": "rs6cpRgjKgaW",
        "colab": {
          "base_uri": "https://localhost:8080/",
          "height": 175
        },
        "outputId": "91731069-1542-47d4-f4d1-a6f9938cda5d"
      },
      "execution_count": null,
      "outputs": [
        {
          "output_type": "execute_result",
          "data": {
            "text/plain": [
              "                 GENERATION\n",
              "STATE                      \n",
              "ANDHRA PRADESH  3489.727305\n",
              "RAJASTHAN       2637.072198\n",
              "TAMILNADU       3123.411827"
            ],
            "text/html": [
              "\n",
              "  <div id=\"df-db551678-3a65-4d61-a62c-33c2169a6fb0\">\n",
              "    <div class=\"colab-df-container\">\n",
              "      <div>\n",
              "<style scoped>\n",
              "    .dataframe tbody tr th:only-of-type {\n",
              "        vertical-align: middle;\n",
              "    }\n",
              "\n",
              "    .dataframe tbody tr th {\n",
              "        vertical-align: top;\n",
              "    }\n",
              "\n",
              "    .dataframe thead th {\n",
              "        text-align: right;\n",
              "    }\n",
              "</style>\n",
              "<table border=\"1\" class=\"dataframe\">\n",
              "  <thead>\n",
              "    <tr style=\"text-align: right;\">\n",
              "      <th></th>\n",
              "      <th>GENERATION</th>\n",
              "    </tr>\n",
              "    <tr>\n",
              "      <th>STATE</th>\n",
              "      <th></th>\n",
              "    </tr>\n",
              "  </thead>\n",
              "  <tbody>\n",
              "    <tr>\n",
              "      <th>ANDHRA PRADESH</th>\n",
              "      <td>3489.727305</td>\n",
              "    </tr>\n",
              "    <tr>\n",
              "      <th>RAJASTHAN</th>\n",
              "      <td>2637.072198</td>\n",
              "    </tr>\n",
              "    <tr>\n",
              "      <th>TAMILNADU</th>\n",
              "      <td>3123.411827</td>\n",
              "    </tr>\n",
              "  </tbody>\n",
              "</table>\n",
              "</div>\n",
              "      <button class=\"colab-df-convert\" onclick=\"convertToInteractive('df-db551678-3a65-4d61-a62c-33c2169a6fb0')\"\n",
              "              title=\"Convert this dataframe to an interactive table.\"\n",
              "              style=\"display:none;\">\n",
              "        \n",
              "  <svg xmlns=\"http://www.w3.org/2000/svg\" height=\"24px\"viewBox=\"0 0 24 24\"\n",
              "       width=\"24px\">\n",
              "    <path d=\"M0 0h24v24H0V0z\" fill=\"none\"/>\n",
              "    <path d=\"M18.56 5.44l.94 2.06.94-2.06 2.06-.94-2.06-.94-.94-2.06-.94 2.06-2.06.94zm-11 1L8.5 8.5l.94-2.06 2.06-.94-2.06-.94L8.5 2.5l-.94 2.06-2.06.94zm10 10l.94 2.06.94-2.06 2.06-.94-2.06-.94-.94-2.06-.94 2.06-2.06.94z\"/><path d=\"M17.41 7.96l-1.37-1.37c-.4-.4-.92-.59-1.43-.59-.52 0-1.04.2-1.43.59L10.3 9.45l-7.72 7.72c-.78.78-.78 2.05 0 2.83L4 21.41c.39.39.9.59 1.41.59.51 0 1.02-.2 1.41-.59l7.78-7.78 2.81-2.81c.8-.78.8-2.07 0-2.86zM5.41 20L4 18.59l7.72-7.72 1.47 1.35L5.41 20z\"/>\n",
              "  </svg>\n",
              "      </button>\n",
              "      \n",
              "  <style>\n",
              "    .colab-df-container {\n",
              "      display:flex;\n",
              "      flex-wrap:wrap;\n",
              "      gap: 12px;\n",
              "    }\n",
              "\n",
              "    .colab-df-convert {\n",
              "      background-color: #E8F0FE;\n",
              "      border: none;\n",
              "      border-radius: 50%;\n",
              "      cursor: pointer;\n",
              "      display: none;\n",
              "      fill: #1967D2;\n",
              "      height: 32px;\n",
              "      padding: 0 0 0 0;\n",
              "      width: 32px;\n",
              "    }\n",
              "\n",
              "    .colab-df-convert:hover {\n",
              "      background-color: #E2EBFA;\n",
              "      box-shadow: 0px 1px 2px rgba(60, 64, 67, 0.3), 0px 1px 3px 1px rgba(60, 64, 67, 0.15);\n",
              "      fill: #174EA6;\n",
              "    }\n",
              "\n",
              "    [theme=dark] .colab-df-convert {\n",
              "      background-color: #3B4455;\n",
              "      fill: #D2E3FC;\n",
              "    }\n",
              "\n",
              "    [theme=dark] .colab-df-convert:hover {\n",
              "      background-color: #434B5C;\n",
              "      box-shadow: 0px 1px 3px 1px rgba(0, 0, 0, 0.15);\n",
              "      filter: drop-shadow(0px 1px 2px rgba(0, 0, 0, 0.3));\n",
              "      fill: #FFFFFF;\n",
              "    }\n",
              "  </style>\n",
              "\n",
              "      <script>\n",
              "        const buttonEl =\n",
              "          document.querySelector('#df-db551678-3a65-4d61-a62c-33c2169a6fb0 button.colab-df-convert');\n",
              "        buttonEl.style.display =\n",
              "          google.colab.kernel.accessAllowed ? 'block' : 'none';\n",
              "\n",
              "        async function convertToInteractive(key) {\n",
              "          const element = document.querySelector('#df-db551678-3a65-4d61-a62c-33c2169a6fb0');\n",
              "          const dataTable =\n",
              "            await google.colab.kernel.invokeFunction('convertToInteractive',\n",
              "                                                     [key], {});\n",
              "          if (!dataTable) return;\n",
              "\n",
              "          const docLinkHtml = 'Like what you see? Visit the ' +\n",
              "            '<a target=\"_blank\" href=https://colab.research.google.com/notebooks/data_table.ipynb>data table notebook</a>'\n",
              "            + ' to learn more about interactive tables.';\n",
              "          element.innerHTML = '';\n",
              "          dataTable['output_type'] = 'display_data';\n",
              "          await google.colab.output.renderOutput(dataTable, element);\n",
              "          const docLink = document.createElement('div');\n",
              "          docLink.innerHTML = docLinkHtml;\n",
              "          element.appendChild(docLink);\n",
              "        }\n",
              "      </script>\n",
              "    </div>\n",
              "  </div>\n",
              "  "
            ]
          },
          "metadata": {},
          "execution_count": 287
        }
      ]
    },
    {
      "cell_type": "code",
      "source": [
        "tb=df.groupby([\"STATE \"])[[\"SITE\",\"GENERATION\"]].sum()\n",
        "tb"
      ],
      "metadata": {
        "id": "564HFgQIAUFF",
        "colab": {
          "base_uri": "https://localhost:8080/",
          "height": 175
        },
        "outputId": "6c24bbb4-7385-406f-bec3-b2ffe167a286"
      },
      "execution_count": null,
      "outputs": [
        {
          "output_type": "execute_result",
          "data": {
            "text/plain": [
              "                GENERATION\n",
              "STATE                     \n",
              "ANDHRA PRADESH     9841031\n",
              "RAJASTHAN         14939014\n",
              "TAMILNADU         70776512"
            ],
            "text/html": [
              "\n",
              "  <div id=\"df-cc6a7d73-e4ae-43b1-a5e1-35b3a8369af3\">\n",
              "    <div class=\"colab-df-container\">\n",
              "      <div>\n",
              "<style scoped>\n",
              "    .dataframe tbody tr th:only-of-type {\n",
              "        vertical-align: middle;\n",
              "    }\n",
              "\n",
              "    .dataframe tbody tr th {\n",
              "        vertical-align: top;\n",
              "    }\n",
              "\n",
              "    .dataframe thead th {\n",
              "        text-align: right;\n",
              "    }\n",
              "</style>\n",
              "<table border=\"1\" class=\"dataframe\">\n",
              "  <thead>\n",
              "    <tr style=\"text-align: right;\">\n",
              "      <th></th>\n",
              "      <th>GENERATION</th>\n",
              "    </tr>\n",
              "    <tr>\n",
              "      <th>STATE</th>\n",
              "      <th></th>\n",
              "    </tr>\n",
              "  </thead>\n",
              "  <tbody>\n",
              "    <tr>\n",
              "      <th>ANDHRA PRADESH</th>\n",
              "      <td>9841031</td>\n",
              "    </tr>\n",
              "    <tr>\n",
              "      <th>RAJASTHAN</th>\n",
              "      <td>14939014</td>\n",
              "    </tr>\n",
              "    <tr>\n",
              "      <th>TAMILNADU</th>\n",
              "      <td>70776512</td>\n",
              "    </tr>\n",
              "  </tbody>\n",
              "</table>\n",
              "</div>\n",
              "      <button class=\"colab-df-convert\" onclick=\"convertToInteractive('df-cc6a7d73-e4ae-43b1-a5e1-35b3a8369af3')\"\n",
              "              title=\"Convert this dataframe to an interactive table.\"\n",
              "              style=\"display:none;\">\n",
              "        \n",
              "  <svg xmlns=\"http://www.w3.org/2000/svg\" height=\"24px\"viewBox=\"0 0 24 24\"\n",
              "       width=\"24px\">\n",
              "    <path d=\"M0 0h24v24H0V0z\" fill=\"none\"/>\n",
              "    <path d=\"M18.56 5.44l.94 2.06.94-2.06 2.06-.94-2.06-.94-.94-2.06-.94 2.06-2.06.94zm-11 1L8.5 8.5l.94-2.06 2.06-.94-2.06-.94L8.5 2.5l-.94 2.06-2.06.94zm10 10l.94 2.06.94-2.06 2.06-.94-2.06-.94-.94-2.06-.94 2.06-2.06.94z\"/><path d=\"M17.41 7.96l-1.37-1.37c-.4-.4-.92-.59-1.43-.59-.52 0-1.04.2-1.43.59L10.3 9.45l-7.72 7.72c-.78.78-.78 2.05 0 2.83L4 21.41c.39.39.9.59 1.41.59.51 0 1.02-.2 1.41-.59l7.78-7.78 2.81-2.81c.8-.78.8-2.07 0-2.86zM5.41 20L4 18.59l7.72-7.72 1.47 1.35L5.41 20z\"/>\n",
              "  </svg>\n",
              "      </button>\n",
              "      \n",
              "  <style>\n",
              "    .colab-df-container {\n",
              "      display:flex;\n",
              "      flex-wrap:wrap;\n",
              "      gap: 12px;\n",
              "    }\n",
              "\n",
              "    .colab-df-convert {\n",
              "      background-color: #E8F0FE;\n",
              "      border: none;\n",
              "      border-radius: 50%;\n",
              "      cursor: pointer;\n",
              "      display: none;\n",
              "      fill: #1967D2;\n",
              "      height: 32px;\n",
              "      padding: 0 0 0 0;\n",
              "      width: 32px;\n",
              "    }\n",
              "\n",
              "    .colab-df-convert:hover {\n",
              "      background-color: #E2EBFA;\n",
              "      box-shadow: 0px 1px 2px rgba(60, 64, 67, 0.3), 0px 1px 3px 1px rgba(60, 64, 67, 0.15);\n",
              "      fill: #174EA6;\n",
              "    }\n",
              "\n",
              "    [theme=dark] .colab-df-convert {\n",
              "      background-color: #3B4455;\n",
              "      fill: #D2E3FC;\n",
              "    }\n",
              "\n",
              "    [theme=dark] .colab-df-convert:hover {\n",
              "      background-color: #434B5C;\n",
              "      box-shadow: 0px 1px 3px 1px rgba(0, 0, 0, 0.15);\n",
              "      filter: drop-shadow(0px 1px 2px rgba(0, 0, 0, 0.3));\n",
              "      fill: #FFFFFF;\n",
              "    }\n",
              "  </style>\n",
              "\n",
              "      <script>\n",
              "        const buttonEl =\n",
              "          document.querySelector('#df-cc6a7d73-e4ae-43b1-a5e1-35b3a8369af3 button.colab-df-convert');\n",
              "        buttonEl.style.display =\n",
              "          google.colab.kernel.accessAllowed ? 'block' : 'none';\n",
              "\n",
              "        async function convertToInteractive(key) {\n",
              "          const element = document.querySelector('#df-cc6a7d73-e4ae-43b1-a5e1-35b3a8369af3');\n",
              "          const dataTable =\n",
              "            await google.colab.kernel.invokeFunction('convertToInteractive',\n",
              "                                                     [key], {});\n",
              "          if (!dataTable) return;\n",
              "\n",
              "          const docLinkHtml = 'Like what you see? Visit the ' +\n",
              "            '<a target=\"_blank\" href=https://colab.research.google.com/notebooks/data_table.ipynb>data table notebook</a>'\n",
              "            + ' to learn more about interactive tables.';\n",
              "          element.innerHTML = '';\n",
              "          dataTable['output_type'] = 'display_data';\n",
              "          await google.colab.output.renderOutput(dataTable, element);\n",
              "          const docLink = document.createElement('div');\n",
              "          docLink.innerHTML = docLinkHtml;\n",
              "          element.appendChild(docLink);\n",
              "        }\n",
              "      </script>\n",
              "    </div>\n",
              "  </div>\n",
              "  "
            ]
          },
          "metadata": {},
          "execution_count": 288
        }
      ]
    },
    {
      "cell_type": "code",
      "source": [
        "tb = tb.reset_index()\n",
        "tb"
      ],
      "metadata": {
        "colab": {
          "base_uri": "https://localhost:8080/",
          "height": 143
        },
        "id": "ySGtUP_SO0fs",
        "outputId": "28e1d4f4-262a-417b-8243-2229442dd829"
      },
      "execution_count": null,
      "outputs": [
        {
          "output_type": "execute_result",
          "data": {
            "text/plain": [
              "           STATE   GENERATION\n",
              "0  ANDHRA PRADESH     9841031\n",
              "1       RAJASTHAN    14939014\n",
              "2       TAMILNADU    70776512"
            ],
            "text/html": [
              "\n",
              "  <div id=\"df-85ac0a56-6a68-4aa5-9526-5a3930281248\">\n",
              "    <div class=\"colab-df-container\">\n",
              "      <div>\n",
              "<style scoped>\n",
              "    .dataframe tbody tr th:only-of-type {\n",
              "        vertical-align: middle;\n",
              "    }\n",
              "\n",
              "    .dataframe tbody tr th {\n",
              "        vertical-align: top;\n",
              "    }\n",
              "\n",
              "    .dataframe thead th {\n",
              "        text-align: right;\n",
              "    }\n",
              "</style>\n",
              "<table border=\"1\" class=\"dataframe\">\n",
              "  <thead>\n",
              "    <tr style=\"text-align: right;\">\n",
              "      <th></th>\n",
              "      <th>STATE</th>\n",
              "      <th>GENERATION</th>\n",
              "    </tr>\n",
              "  </thead>\n",
              "  <tbody>\n",
              "    <tr>\n",
              "      <th>0</th>\n",
              "      <td>ANDHRA PRADESH</td>\n",
              "      <td>9841031</td>\n",
              "    </tr>\n",
              "    <tr>\n",
              "      <th>1</th>\n",
              "      <td>RAJASTHAN</td>\n",
              "      <td>14939014</td>\n",
              "    </tr>\n",
              "    <tr>\n",
              "      <th>2</th>\n",
              "      <td>TAMILNADU</td>\n",
              "      <td>70776512</td>\n",
              "    </tr>\n",
              "  </tbody>\n",
              "</table>\n",
              "</div>\n",
              "      <button class=\"colab-df-convert\" onclick=\"convertToInteractive('df-85ac0a56-6a68-4aa5-9526-5a3930281248')\"\n",
              "              title=\"Convert this dataframe to an interactive table.\"\n",
              "              style=\"display:none;\">\n",
              "        \n",
              "  <svg xmlns=\"http://www.w3.org/2000/svg\" height=\"24px\"viewBox=\"0 0 24 24\"\n",
              "       width=\"24px\">\n",
              "    <path d=\"M0 0h24v24H0V0z\" fill=\"none\"/>\n",
              "    <path d=\"M18.56 5.44l.94 2.06.94-2.06 2.06-.94-2.06-.94-.94-2.06-.94 2.06-2.06.94zm-11 1L8.5 8.5l.94-2.06 2.06-.94-2.06-.94L8.5 2.5l-.94 2.06-2.06.94zm10 10l.94 2.06.94-2.06 2.06-.94-2.06-.94-.94-2.06-.94 2.06-2.06.94z\"/><path d=\"M17.41 7.96l-1.37-1.37c-.4-.4-.92-.59-1.43-.59-.52 0-1.04.2-1.43.59L10.3 9.45l-7.72 7.72c-.78.78-.78 2.05 0 2.83L4 21.41c.39.39.9.59 1.41.59.51 0 1.02-.2 1.41-.59l7.78-7.78 2.81-2.81c.8-.78.8-2.07 0-2.86zM5.41 20L4 18.59l7.72-7.72 1.47 1.35L5.41 20z\"/>\n",
              "  </svg>\n",
              "      </button>\n",
              "      \n",
              "  <style>\n",
              "    .colab-df-container {\n",
              "      display:flex;\n",
              "      flex-wrap:wrap;\n",
              "      gap: 12px;\n",
              "    }\n",
              "\n",
              "    .colab-df-convert {\n",
              "      background-color: #E8F0FE;\n",
              "      border: none;\n",
              "      border-radius: 50%;\n",
              "      cursor: pointer;\n",
              "      display: none;\n",
              "      fill: #1967D2;\n",
              "      height: 32px;\n",
              "      padding: 0 0 0 0;\n",
              "      width: 32px;\n",
              "    }\n",
              "\n",
              "    .colab-df-convert:hover {\n",
              "      background-color: #E2EBFA;\n",
              "      box-shadow: 0px 1px 2px rgba(60, 64, 67, 0.3), 0px 1px 3px 1px rgba(60, 64, 67, 0.15);\n",
              "      fill: #174EA6;\n",
              "    }\n",
              "\n",
              "    [theme=dark] .colab-df-convert {\n",
              "      background-color: #3B4455;\n",
              "      fill: #D2E3FC;\n",
              "    }\n",
              "\n",
              "    [theme=dark] .colab-df-convert:hover {\n",
              "      background-color: #434B5C;\n",
              "      box-shadow: 0px 1px 3px 1px rgba(0, 0, 0, 0.15);\n",
              "      filter: drop-shadow(0px 1px 2px rgba(0, 0, 0, 0.3));\n",
              "      fill: #FFFFFF;\n",
              "    }\n",
              "  </style>\n",
              "\n",
              "      <script>\n",
              "        const buttonEl =\n",
              "          document.querySelector('#df-85ac0a56-6a68-4aa5-9526-5a3930281248 button.colab-df-convert');\n",
              "        buttonEl.style.display =\n",
              "          google.colab.kernel.accessAllowed ? 'block' : 'none';\n",
              "\n",
              "        async function convertToInteractive(key) {\n",
              "          const element = document.querySelector('#df-85ac0a56-6a68-4aa5-9526-5a3930281248');\n",
              "          const dataTable =\n",
              "            await google.colab.kernel.invokeFunction('convertToInteractive',\n",
              "                                                     [key], {});\n",
              "          if (!dataTable) return;\n",
              "\n",
              "          const docLinkHtml = 'Like what you see? Visit the ' +\n",
              "            '<a target=\"_blank\" href=https://colab.research.google.com/notebooks/data_table.ipynb>data table notebook</a>'\n",
              "            + ' to learn more about interactive tables.';\n",
              "          element.innerHTML = '';\n",
              "          dataTable['output_type'] = 'display_data';\n",
              "          await google.colab.output.renderOutput(dataTable, element);\n",
              "          const docLink = document.createElement('div');\n",
              "          docLink.innerHTML = docLinkHtml;\n",
              "          element.appendChild(docLink);\n",
              "        }\n",
              "      </script>\n",
              "    </div>\n",
              "  </div>\n",
              "  "
            ]
          },
          "metadata": {},
          "execution_count": 289
        }
      ]
    },
    {
      "cell_type": "markdown",
      "source": [
        "total generation of each state"
      ],
      "metadata": {
        "id": "INXeituTP6dz"
      }
    },
    {
      "cell_type": "code",
      "source": [
        "x = tb[\"STATE \"]\n",
        "y = tb['GENERATION']\n",
        "import matplotlib.pyplot as plt\n",
        "\n",
        "plt.barh(x, y)\n",
        "\n",
        "for index, value in enumerate(y):\n",
        "\tplt.text(value, index,\n",
        "\t\t\tstr(value))\n",
        "\n",
        "plt.show()\n",
        "\n"
      ],
      "metadata": {
        "colab": {
          "base_uri": "https://localhost:8080/",
          "height": 278
        },
        "id": "pQP36rr9PKcF",
        "outputId": "c31c2e1c-8c89-43b5-b1bf-4547dafdcdab"
      },
      "execution_count": null,
      "outputs": [
        {
          "output_type": "display_data",
          "data": {
            "text/plain": [
              "<Figure size 432x288 with 1 Axes>"
            ],
            "image/png": "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\n"
          },
          "metadata": {
            "needs_background": "light"
          }
        }
      ]
    },
    {
      "cell_type": "code",
      "source": [
        "df.groupby "
      ],
      "metadata": {
        "id": "Ehfs4D_SXeGK",
        "colab": {
          "base_uri": "https://localhost:8080/"
        },
        "outputId": "20e73c18-8e68-4f2c-c138-4df7a9a9e48d"
      },
      "execution_count": null,
      "outputs": [
        {
          "output_type": "execute_result",
          "data": {
            "text/plain": [
              "<bound method DataFrame.groupby of              DATE              WEC  WEC Type  GENERATION               SITE  \\\n",
              "0      01/04/2013   TEXOTI-01 (67)  E-53/800        1593            TINWARI   \n",
              "1      01/04/2013   TEXOJD-02 (40)  E-53/800        2364  PITHODAI KI DHANI   \n",
              "2      01/04/2013       TEXONIC-01  E-40/600        1202      TANDAYARKULAM   \n",
              "3      01/04/2013       TEXONIC-02  E-40/600        1375      TANDAYARKULAM   \n",
              "4      01/04/2013   TEXODH-01 (21)  E-48/800        1278         DHARAPURAM   \n",
              "...           ...              ...       ...         ...                ...   \n",
              "31140  01/01/2021   TEXONE-01 (20)  E-48/800         605             NETTUR   \n",
              "31141  01/01/2021   TEXOPU-01 (41)  E-48/800         590         PUSHPATHUR   \n",
              "31142  01/01/2021   TEXOPU-02 (11)  E-48/800         616         PUSHPATHUR   \n",
              "31143  01/01/2021  TEXOPU-03 (312)  E-53/800         292         PUSHPATHUR   \n",
              "31144  01/01/2021   TEXOTP-01 (51)  E-53/800        1805          TADIPATRI   \n",
              "\n",
              "               STATE   \n",
              "0           RAJASTHAN  \n",
              "1           RAJASTHAN  \n",
              "2           TAMILNADU  \n",
              "3           TAMILNADU  \n",
              "4           TAMILNADU  \n",
              "...               ...  \n",
              "31140       TAMILNADU  \n",
              "31141       TAMILNADU  \n",
              "31142       TAMILNADU  \n",
              "31143       TAMILNADU  \n",
              "31144  ANDHRA PRADESH  \n",
              "\n",
              "[31145 rows x 6 columns]>"
            ]
          },
          "metadata": {},
          "execution_count": 291
        }
      ]
    },
    {
      "cell_type": "code",
      "source": [
        "d=df.SITE.unique()\n",
        "d"
      ],
      "metadata": {
        "id": "PYja25qEjAZi",
        "colab": {
          "base_uri": "https://localhost:8080/"
        },
        "outputId": "6020b043-08d9-494e-bb9b-f89e19707275"
      },
      "execution_count": null,
      "outputs": [
        {
          "output_type": "execute_result",
          "data": {
            "text/plain": [
              "array(['TINWARI', 'PITHODAI KI DHANI', 'TANDAYARKULAM', 'DHARAPURAM',\n",
              "       'NETTUR', 'PUSHPATHUR', 'TADIPATRI'], dtype=object)"
            ]
          },
          "metadata": {},
          "execution_count": 292
        }
      ]
    },
    {
      "cell_type": "code",
      "source": [
        "sd1=df['WEC'].unique()\n",
        "sd1"
      ],
      "metadata": {
        "id": "n9IdcZ8iqQiK",
        "colab": {
          "base_uri": "https://localhost:8080/"
        },
        "outputId": "69001dd6-5612-4bb2-87e0-be571af10f8f"
      },
      "execution_count": null,
      "outputs": [
        {
          "output_type": "execute_result",
          "data": {
            "text/plain": [
              "array(['TEXOTI-01 (67)', 'TEXOJD-02 (40)', 'TEXONIC-01', 'TEXONIC-02',\n",
              "       'TEXODH-01 (21)', 'TEXODH-02 (85)', 'TEXONE-01 (20)',\n",
              "       'TEXOPU-01 (41)', 'TEXOPU-02 (11)', 'TEXOPU-03 (312)',\n",
              "       'TEXOTP-01 (51)'], dtype=object)"
            ]
          },
          "metadata": {},
          "execution_count": 293
        }
      ]
    },
    {
      "cell_type": "code",
      "source": [
        "import datetime"
      ],
      "metadata": {
        "id": "aBJjXELHdeRR"
      },
      "execution_count": null,
      "outputs": []
    },
    {
      "cell_type": "code",
      "source": [
        "df['DATE']=pd.to_datetime(df['DATE'])"
      ],
      "metadata": {
        "colab": {
          "base_uri": "https://localhost:8080/"
        },
        "id": "kY8qEOjJMqTC",
        "outputId": "86c4d76e-425a-4041-c763-53e1da2fa7c0"
      },
      "execution_count": null,
      "outputs": [
        {
          "output_type": "stream",
          "name": "stderr",
          
        }
      ]
    },
    {
      "cell_type": "code",
      "source": [
        "df"
      ],
      "metadata": {
        "colab": {
          "base_uri": "https://localhost:8080/",
          "height": 423
        },
        "id": "Vxmq3Rcg90kz",
        "outputId": "384cd399-00fa-4d05-bce5-f08ea51d97df"
      },
      "execution_count": null,
      "outputs": [
        {
          "output_type": "execute_result",
          "data": {
            "text/plain": [
              "            DATE              WEC  WEC Type  GENERATION               SITE  \\\n",
              "0     2013-01-04   TEXOTI-01 (67)  E-53/800        1593            TINWARI   \n",
              "1     2013-01-04   TEXOJD-02 (40)  E-53/800        2364  PITHODAI KI DHANI   \n",
              "2     2013-01-04       TEXONIC-01  E-40/600        1202      TANDAYARKULAM   \n",
              "3     2013-01-04       TEXONIC-02  E-40/600        1375      TANDAYARKULAM   \n",
              "4     2013-01-04   TEXODH-01 (21)  E-48/800        1278         DHARAPURAM   \n",
              "...          ...              ...       ...         ...                ...   \n",
              "31140 2021-01-01   TEXONE-01 (20)  E-48/800         605             NETTUR   \n",
              "31141 2021-01-01   TEXOPU-01 (41)  E-48/800         590         PUSHPATHUR   \n",
              "31142 2021-01-01   TEXOPU-02 (11)  E-48/800         616         PUSHPATHUR   \n",
              "31143 2021-01-01  TEXOPU-03 (312)  E-53/800         292         PUSHPATHUR   \n",
              "31144 2021-01-01   TEXOTP-01 (51)  E-53/800        1805          TADIPATRI   \n",
              "\n",
              "               STATE   \n",
              "0           RAJASTHAN  \n",
              "1           RAJASTHAN  \n",
              "2           TAMILNADU  \n",
              "3           TAMILNADU  \n",
              "4           TAMILNADU  \n",
              "...               ...  \n",
              "31140       TAMILNADU  \n",
              "31141       TAMILNADU  \n",
              "31142       TAMILNADU  \n",
              "31143       TAMILNADU  \n",
              "31144  ANDHRA PRADESH  \n",
              "\n",
              "[31145 rows x 6 columns]"
            ],
            "text/html": [
              "\n",
              "  <div id=\"df-1ef7a809-1bcf-43b4-b2cf-25305275d749\">\n",
              "    <div class=\"colab-df-container\">\n",
              "      <div>\n",
              "<style scoped>\n",
              "    .dataframe tbody tr th:only-of-type {\n",
              "        vertical-align: middle;\n",
              "    }\n",
              "\n",
              "    .dataframe tbody tr th {\n",
              "        vertical-align: top;\n",
              "    }\n",
              "\n",
              "    .dataframe thead th {\n",
              "        text-align: right;\n",
              "    }\n",
              "</style>\n",
              "<table border=\"1\" class=\"dataframe\">\n",
              "  <thead>\n",
              "    <tr style=\"text-align: right;\">\n",
              "      <th></th>\n",
              "      <th>DATE</th>\n",
              "      <th>WEC</th>\n",
              "      <th>WEC Type</th>\n",
              "      <th>GENERATION</th>\n",
              "      <th>SITE</th>\n",
              "      <th>STATE</th>\n",
              "    </tr>\n",
              "  </thead>\n",
              "  <tbody>\n",
              "    <tr>\n",
              "      <th>0</th>\n",
              "      <td>2013-01-04</td>\n",
              "      <td>TEXOTI-01 (67)</td>\n",
              "      <td>E-53/800</td>\n",
              "      <td>1593</td>\n",
              "      <td>TINWARI</td>\n",
              "      <td>RAJASTHAN</td>\n",
              "    </tr>\n",
              "    <tr>\n",
              "      <th>1</th>\n",
              "      <td>2013-01-04</td>\n",
              "      <td>TEXOJD-02 (40)</td>\n",
              "      <td>E-53/800</td>\n",
              "      <td>2364</td>\n",
              "      <td>PITHODAI KI DHANI</td>\n",
              "      <td>RAJASTHAN</td>\n",
              "    </tr>\n",
              "    <tr>\n",
              "      <th>2</th>\n",
              "      <td>2013-01-04</td>\n",
              "      <td>TEXONIC-01</td>\n",
              "      <td>E-40/600</td>\n",
              "      <td>1202</td>\n",
              "      <td>TANDAYARKULAM</td>\n",
              "      <td>TAMILNADU</td>\n",
              "    </tr>\n",
              "    <tr>\n",
              "      <th>3</th>\n",
              "      <td>2013-01-04</td>\n",
              "      <td>TEXONIC-02</td>\n",
              "      <td>E-40/600</td>\n",
              "      <td>1375</td>\n",
              "      <td>TANDAYARKULAM</td>\n",
              "      <td>TAMILNADU</td>\n",
              "    </tr>\n",
              "    <tr>\n",
              "      <th>4</th>\n",
              "      <td>2013-01-04</td>\n",
              "      <td>TEXODH-01 (21)</td>\n",
              "      <td>E-48/800</td>\n",
              "      <td>1278</td>\n",
              "      <td>DHARAPURAM</td>\n",
              "      <td>TAMILNADU</td>\n",
              "    </tr>\n",
              "    <tr>\n",
              "      <th>...</th>\n",
              "      <td>...</td>\n",
              "      <td>...</td>\n",
              "      <td>...</td>\n",
              "      <td>...</td>\n",
              "      <td>...</td>\n",
              "      <td>...</td>\n",
              "    </tr>\n",
              "    <tr>\n",
              "      <th>31140</th>\n",
              "      <td>2021-01-01</td>\n",
              "      <td>TEXONE-01 (20)</td>\n",
              "      <td>E-48/800</td>\n",
              "      <td>605</td>\n",
              "      <td>NETTUR</td>\n",
              "      <td>TAMILNADU</td>\n",
              "    </tr>\n",
              "    <tr>\n",
              "      <th>31141</th>\n",
              "      <td>2021-01-01</td>\n",
              "      <td>TEXOPU-01 (41)</td>\n",
              "      <td>E-48/800</td>\n",
              "      <td>590</td>\n",
              "      <td>PUSHPATHUR</td>\n",
              "      <td>TAMILNADU</td>\n",
              "    </tr>\n",
              "    <tr>\n",
              "      <th>31142</th>\n",
              "      <td>2021-01-01</td>\n",
              "      <td>TEXOPU-02 (11)</td>\n",
              "      <td>E-48/800</td>\n",
              "      <td>616</td>\n",
              "      <td>PUSHPATHUR</td>\n",
              "      <td>TAMILNADU</td>\n",
              "    </tr>\n",
              "    <tr>\n",
              "      <th>31143</th>\n",
              "      <td>2021-01-01</td>\n",
              "      <td>TEXOPU-03 (312)</td>\n",
              "      <td>E-53/800</td>\n",
              "      <td>292</td>\n",
              "      <td>PUSHPATHUR</td>\n",
              "      <td>TAMILNADU</td>\n",
              "    </tr>\n",
              "    <tr>\n",
              "      <th>31144</th>\n",
              "      <td>2021-01-01</td>\n",
              "      <td>TEXOTP-01 (51)</td>\n",
              "      <td>E-53/800</td>\n",
              "      <td>1805</td>\n",
              "      <td>TADIPATRI</td>\n",
              "      <td>ANDHRA PRADESH</td>\n",
              "    </tr>\n",
              "  </tbody>\n",
              "</table>\n",
              "<p>31145 rows × 6 columns</p>\n",
              "</div>\n",
              "      <button class=\"colab-df-convert\" onclick=\"convertToInteractive('df-1ef7a809-1bcf-43b4-b2cf-25305275d749')\"\n",
              "              title=\"Convert this dataframe to an interactive table.\"\n",
              "              style=\"display:none;\">\n",
              "        \n",
              "  <svg xmlns=\"http://www.w3.org/2000/svg\" height=\"24px\"viewBox=\"0 0 24 24\"\n",
              "       width=\"24px\">\n",
              "    <path d=\"M0 0h24v24H0V0z\" fill=\"none\"/>\n",
              "    <path d=\"M18.56 5.44l.94 2.06.94-2.06 2.06-.94-2.06-.94-.94-2.06-.94 2.06-2.06.94zm-11 1L8.5 8.5l.94-2.06 2.06-.94-2.06-.94L8.5 2.5l-.94 2.06-2.06.94zm10 10l.94 2.06.94-2.06 2.06-.94-2.06-.94-.94-2.06-.94 2.06-2.06.94z\"/><path d=\"M17.41 7.96l-1.37-1.37c-.4-.4-.92-.59-1.43-.59-.52 0-1.04.2-1.43.59L10.3 9.45l-7.72 7.72c-.78.78-.78 2.05 0 2.83L4 21.41c.39.39.9.59 1.41.59.51 0 1.02-.2 1.41-.59l7.78-7.78 2.81-2.81c.8-.78.8-2.07 0-2.86zM5.41 20L4 18.59l7.72-7.72 1.47 1.35L5.41 20z\"/>\n",
              "  </svg>\n",
              "      </button>\n",
              "      \n",
              "  <style>\n",
              "    .colab-df-container {\n",
              "      display:flex;\n",
              "      flex-wrap:wrap;\n",
              "      gap: 12px;\n",
              "    }\n",
              "\n",
              "    .colab-df-convert {\n",
              "      background-color: #E8F0FE;\n",
              "      border: none;\n",
              "      border-radius: 50%;\n",
              "      cursor: pointer;\n",
              "      display: none;\n",
              "      fill: #1967D2;\n",
              "      height: 32px;\n",
              "      padding: 0 0 0 0;\n",
              "      width: 32px;\n",
              "    }\n",
              "\n",
              "    .colab-df-convert:hover {\n",
              "      background-color: #E2EBFA;\n",
              "      box-shadow: 0px 1px 2px rgba(60, 64, 67, 0.3), 0px 1px 3px 1px rgba(60, 64, 67, 0.15);\n",
              "      fill: #174EA6;\n",
              "    }\n",
              "\n",
              "    [theme=dark] .colab-df-convert {\n",
              "      background-color: #3B4455;\n",
              "      fill: #D2E3FC;\n",
              "    }\n",
              "\n",
              "    [theme=dark] .colab-df-convert:hover {\n",
              "      background-color: #434B5C;\n",
              "      box-shadow: 0px 1px 3px 1px rgba(0, 0, 0, 0.15);\n",
              "      filter: drop-shadow(0px 1px 2px rgba(0, 0, 0, 0.3));\n",
              "      fill: #FFFFFF;\n",
              "    }\n",
              "  </style>\n",
              "\n",
              "      <script>\n",
              "        const buttonEl =\n",
              "          document.querySelector('#df-1ef7a809-1bcf-43b4-b2cf-25305275d749 button.colab-df-convert');\n",
              "        buttonEl.style.display =\n",
              "          google.colab.kernel.accessAllowed ? 'block' : 'none';\n",
              "\n",
              "        async function convertToInteractive(key) {\n",
              "          const element = document.querySelector('#df-1ef7a809-1bcf-43b4-b2cf-25305275d749');\n",
              "          const dataTable =\n",
              "            await google.colab.kernel.invokeFunction('convertToInteractive',\n",
              "                                                     [key], {});\n",
              "          if (!dataTable) return;\n",
              "\n",
              "          const docLinkHtml = 'Like what you see? Visit the ' +\n",
              "            '<a target=\"_blank\" href=https://colab.research.google.com/notebooks/data_table.ipynb>data table notebook</a>'\n",
              "            + ' to learn more about interactive tables.';\n",
              "          element.innerHTML = '';\n",
              "          dataTable['output_type'] = 'display_data';\n",
              "          await google.colab.output.renderOutput(dataTable, element);\n",
              "          const docLink = document.createElement('div');\n",
              "          docLink.innerHTML = docLinkHtml;\n",
              "          element.appendChild(docLink);\n",
              "        }\n",
              "      </script>\n",
              "    </div>\n",
              "  </div>\n",
              "  "
            ]
          },
          "metadata": {},
          "execution_count": 296
        }
      ]
    },
    {
      "cell_type": "code",
      "source": [
        "df.info()"
      ],
      "metadata": {
        "colab": {
          "base_uri": "https://localhost:8080/"
        },
        "id": "7jBgK0lXfI2z",
        "outputId": "8ca50aa5-7c52-438b-c3d4-b2e3bbccf785"
      },
      "execution_count": null,
      "outputs": [
        {
          "output_type": "stream",
          "name": "stdout",
          "text": [
            "<class 'pandas.core.frame.DataFrame'>\n",
            "RangeIndex: 31145 entries, 0 to 31144\n",
            "Data columns (total 6 columns):\n",
            " #   Column      Non-Null Count  Dtype         \n",
            "---  ------      --------------  -----         \n",
            " 0   DATE        31145 non-null  datetime64[ns]\n",
            " 1   WEC         31145 non-null  object        \n",
            " 2   WEC Type    31145 non-null  object        \n",
            " 3   GENERATION  31145 non-null  int64         \n",
            " 4   SITE        31145 non-null  object        \n",
            " 5   STATE       31145 non-null  object        \n",
            "dtypes: datetime64[ns](1), int64(1), object(4)\n",
            "memory usage: 1.4+ MB\n"
          ]
        }
      ]
    },
    {
      "cell_type": "markdown",
      "source": [
        "Graph to show seperate wind mill overall generation per year(x axis shows month and y axis shows generation of wind mill)"
      ],
      "metadata": {
        "id": "uYKKF7NwQDdT"
      }
    },
    {
      "cell_type": "code",
      "source": [
        "dff=df[df['WEC']=='TEXOTP-01 (51)']\n",
        "dff=dff[df[\"DATE\"].dt.year==2014]\n",
        "dff.groupby(dff[\"DATE\"].dt.month)[\"GENERATION\"].sum().plot()"
      ],
      "metadata": {
        "id": "WRj05V88tzZr",
        "colab": {
          "base_uri": "https://localhost:8080/",
          "height": 334
        },
        "outputId": "4299a065-a92c-4142-8d2a-0e10d8e192a8"
      },
      "execution_count": null,
      "outputs": [
        {
          "output_type": "stream",
          "name": "stderr",
          "text": [
            "<ipython-input-298-1d964e5b260a>:2: UserWarning: Boolean Series key will be reindexed to match DataFrame index.\n",
            "  dff=dff[df[\"DATE\"].dt.year==2014]\n"
          ]
        },
        {
          "output_type": "execute_result",
          "data": {
            "text/plain": [
              "<AxesSubplot:xlabel='DATE'>"
            ]
          },
          "metadata": {},
          "execution_count": 298
        },
        {
          "output_type": "display_data",
          "data": {
            "text/plain": [
              "<Figure size 432x288 with 1 Axes>"
            ],
            "image/png": "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\n"
          },
          "metadata": {
            "needs_background": "light"
          }
        }
      ]
    },
    {
      "cell_type": "code",
      "source": [
        "df1=df[df['WEC']=='TEXONE-01 (20)']\n",
        "df1=df1[df[\"DATE\"].dt.year==2016]\n",
        "df1.groupby(df1[\"DATE\"].dt.month)[\"GENERATION\"].sum().plot()"
      ],
      "metadata": {
        "id": "gE3ovEv1n8Qd",
        "colab": {
          "base_uri": "https://localhost:8080/",
          "height": 334
        },
        "outputId": "b8116bb5-284c-43f1-ae53-320772ae4012"
      },
      "execution_count": null,
      "outputs": [
        {
          "output_type": "stream",
          "name": "stderr",
          "text": [
            "<ipython-input-299-bd9e0ff4f79e>:2: UserWarning: Boolean Series key will be reindexed to match DataFrame index.\n",
            "  df1=df1[df[\"DATE\"].dt.year==2016]\n"
          ]
        },
        {
          "output_type": "execute_result",
          "data": {
            "text/plain": [
              "<AxesSubplot:xlabel='DATE'>"
            ]
          },
          "metadata": {},
          "execution_count": 299
        },
        {
          "output_type": "display_data",
          "data": {
            "text/plain": [
              "<Figure size 432x288 with 1 Axes>"
            ],
            "image/png": "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\n"
          },
          "metadata": {
            "needs_background": "light"
          }
        }
      ]
    },
    {
      "cell_type": "code",
      "source": [
        "df"
      ],
      "metadata": {
        "id": "OFQK-aan75Lw",
        "colab": {
          "base_uri": "https://localhost:8080/",
          "height": 423
        },
        "outputId": "966ab2cc-e454-4568-be3e-e979b0813b3a"
      },
      "execution_count": null,
      "outputs": [
        {
          "output_type": "execute_result",
          "data": {
            "text/plain": [
              "            DATE              WEC  WEC Type  GENERATION               SITE  \\\n",
              "0     2013-01-04   TEXOTI-01 (67)  E-53/800        1593            TINWARI   \n",
              "1     2013-01-04   TEXOJD-02 (40)  E-53/800        2364  PITHODAI KI DHANI   \n",
              "2     2013-01-04       TEXONIC-01  E-40/600        1202      TANDAYARKULAM   \n",
              "3     2013-01-04       TEXONIC-02  E-40/600        1375      TANDAYARKULAM   \n",
              "4     2013-01-04   TEXODH-01 (21)  E-48/800        1278         DHARAPURAM   \n",
              "...          ...              ...       ...         ...                ...   \n",
              "31140 2021-01-01   TEXONE-01 (20)  E-48/800         605             NETTUR   \n",
              "31141 2021-01-01   TEXOPU-01 (41)  E-48/800         590         PUSHPATHUR   \n",
              "31142 2021-01-01   TEXOPU-02 (11)  E-48/800         616         PUSHPATHUR   \n",
              "31143 2021-01-01  TEXOPU-03 (312)  E-53/800         292         PUSHPATHUR   \n",
              "31144 2021-01-01   TEXOTP-01 (51)  E-53/800        1805          TADIPATRI   \n",
              "\n",
              "               STATE   \n",
              "0           RAJASTHAN  \n",
              "1           RAJASTHAN  \n",
              "2           TAMILNADU  \n",
              "3           TAMILNADU  \n",
              "4           TAMILNADU  \n",
              "...               ...  \n",
              "31140       TAMILNADU  \n",
              "31141       TAMILNADU  \n",
              "31142       TAMILNADU  \n",
              "31143       TAMILNADU  \n",
              "31144  ANDHRA PRADESH  \n",
              "\n",
              "[31145 rows x 6 columns]"
            ],
            "text/html": [
              "\n",
              "  <div id=\"df-0154fd6c-d787-4744-921b-a7b14d0faab3\">\n",
              "    <div class=\"colab-df-container\">\n",
              "      <div>\n",
              "<style scoped>\n",
              "    .dataframe tbody tr th:only-of-type {\n",
              "        vertical-align: middle;\n",
              "    }\n",
              "\n",
              "    .dataframe tbody tr th {\n",
              "        vertical-align: top;\n",
              "    }\n",
              "\n",
              "    .dataframe thead th {\n",
              "        text-align: right;\n",
              "    }\n",
              "</style>\n",
              "<table border=\"1\" class=\"dataframe\">\n",
              "  <thead>\n",
              "    <tr style=\"text-align: right;\">\n",
              "      <th></th>\n",
              "      <th>DATE</th>\n",
              "      <th>WEC</th>\n",
              "      <th>WEC Type</th>\n",
              "      <th>GENERATION</th>\n",
              "      <th>SITE</th>\n",
              "      <th>STATE</th>\n",
              "    </tr>\n",
              "  </thead>\n",
              "  <tbody>\n",
              "    <tr>\n",
              "      <th>0</th>\n",
              "      <td>2013-01-04</td>\n",
              "      <td>TEXOTI-01 (67)</td>\n",
              "      <td>E-53/800</td>\n",
              "      <td>1593</td>\n",
              "      <td>TINWARI</td>\n",
              "      <td>RAJASTHAN</td>\n",
              "    </tr>\n",
              "    <tr>\n",
              "      <th>1</th>\n",
              "      <td>2013-01-04</td>\n",
              "      <td>TEXOJD-02 (40)</td>\n",
              "      <td>E-53/800</td>\n",
              "      <td>2364</td>\n",
              "      <td>PITHODAI KI DHANI</td>\n",
              "      <td>RAJASTHAN</td>\n",
              "    </tr>\n",
              "    <tr>\n",
              "      <th>2</th>\n",
              "      <td>2013-01-04</td>\n",
              "      <td>TEXONIC-01</td>\n",
              "      <td>E-40/600</td>\n",
              "      <td>1202</td>\n",
              "      <td>TANDAYARKULAM</td>\n",
              "      <td>TAMILNADU</td>\n",
              "    </tr>\n",
              "    <tr>\n",
              "      <th>3</th>\n",
              "      <td>2013-01-04</td>\n",
              "      <td>TEXONIC-02</td>\n",
              "      <td>E-40/600</td>\n",
              "      <td>1375</td>\n",
              "      <td>TANDAYARKULAM</td>\n",
              "      <td>TAMILNADU</td>\n",
              "    </tr>\n",
              "    <tr>\n",
              "      <th>4</th>\n",
              "      <td>2013-01-04</td>\n",
              "      <td>TEXODH-01 (21)</td>\n",
              "      <td>E-48/800</td>\n",
              "      <td>1278</td>\n",
              "      <td>DHARAPURAM</td>\n",
              "      <td>TAMILNADU</td>\n",
              "    </tr>\n",
              "    <tr>\n",
              "      <th>...</th>\n",
              "      <td>...</td>\n",
              "      <td>...</td>\n",
              "      <td>...</td>\n",
              "      <td>...</td>\n",
              "      <td>...</td>\n",
              "      <td>...</td>\n",
              "    </tr>\n",
              "    <tr>\n",
              "      <th>31140</th>\n",
              "      <td>2021-01-01</td>\n",
              "      <td>TEXONE-01 (20)</td>\n",
              "      <td>E-48/800</td>\n",
              "      <td>605</td>\n",
              "      <td>NETTUR</td>\n",
              "      <td>TAMILNADU</td>\n",
              "    </tr>\n",
              "    <tr>\n",
              "      <th>31141</th>\n",
              "      <td>2021-01-01</td>\n",
              "      <td>TEXOPU-01 (41)</td>\n",
              "      <td>E-48/800</td>\n",
              "      <td>590</td>\n",
              "      <td>PUSHPATHUR</td>\n",
              "      <td>TAMILNADU</td>\n",
              "    </tr>\n",
              "    <tr>\n",
              "      <th>31142</th>\n",
              "      <td>2021-01-01</td>\n",
              "      <td>TEXOPU-02 (11)</td>\n",
              "      <td>E-48/800</td>\n",
              "      <td>616</td>\n",
              "      <td>PUSHPATHUR</td>\n",
              "      <td>TAMILNADU</td>\n",
              "    </tr>\n",
              "    <tr>\n",
              "      <th>31143</th>\n",
              "      <td>2021-01-01</td>\n",
              "      <td>TEXOPU-03 (312)</td>\n",
              "      <td>E-53/800</td>\n",
              "      <td>292</td>\n",
              "      <td>PUSHPATHUR</td>\n",
              "      <td>TAMILNADU</td>\n",
              "    </tr>\n",
              "    <tr>\n",
              "      <th>31144</th>\n",
              "      <td>2021-01-01</td>\n",
              "      <td>TEXOTP-01 (51)</td>\n",
              "      <td>E-53/800</td>\n",
              "      <td>1805</td>\n",
              "      <td>TADIPATRI</td>\n",
              "      <td>ANDHRA PRADESH</td>\n",
              "    </tr>\n",
              "  </tbody>\n",
              "</table>\n",
              "<p>31145 rows × 6 columns</p>\n",
              "</div>\n",
              "      <button class=\"colab-df-convert\" onclick=\"convertToInteractive('df-0154fd6c-d787-4744-921b-a7b14d0faab3')\"\n",
              "              title=\"Convert this dataframe to an interactive table.\"\n",
              "              style=\"display:none;\">\n",
              "        \n",
              "  <svg xmlns=\"http://www.w3.org/2000/svg\" height=\"24px\"viewBox=\"0 0 24 24\"\n",
              "       width=\"24px\">\n",
              "    <path d=\"M0 0h24v24H0V0z\" fill=\"none\"/>\n",
              "    <path d=\"M18.56 5.44l.94 2.06.94-2.06 2.06-.94-2.06-.94-.94-2.06-.94 2.06-2.06.94zm-11 1L8.5 8.5l.94-2.06 2.06-.94-2.06-.94L8.5 2.5l-.94 2.06-2.06.94zm10 10l.94 2.06.94-2.06 2.06-.94-2.06-.94-.94-2.06-.94 2.06-2.06.94z\"/><path d=\"M17.41 7.96l-1.37-1.37c-.4-.4-.92-.59-1.43-.59-.52 0-1.04.2-1.43.59L10.3 9.45l-7.72 7.72c-.78.78-.78 2.05 0 2.83L4 21.41c.39.39.9.59 1.41.59.51 0 1.02-.2 1.41-.59l7.78-7.78 2.81-2.81c.8-.78.8-2.07 0-2.86zM5.41 20L4 18.59l7.72-7.72 1.47 1.35L5.41 20z\"/>\n",
              "  </svg>\n",
              "      </button>\n",
              "      \n",
              "  <style>\n",
              "    .colab-df-container {\n",
              "      display:flex;\n",
              "      flex-wrap:wrap;\n",
              "      gap: 12px;\n",
              "    }\n",
              "\n",
              "    .colab-df-convert {\n",
              "      background-color: #E8F0FE;\n",
              "      border: none;\n",
              "      border-radius: 50%;\n",
              "      cursor: pointer;\n",
              "      display: none;\n",
              "      fill: #1967D2;\n",
              "      height: 32px;\n",
              "      padding: 0 0 0 0;\n",
              "      width: 32px;\n",
              "    }\n",
              "\n",
              "    .colab-df-convert:hover {\n",
              "      background-color: #E2EBFA;\n",
              "      box-shadow: 0px 1px 2px rgba(60, 64, 67, 0.3), 0px 1px 3px 1px rgba(60, 64, 67, 0.15);\n",
              "      fill: #174EA6;\n",
              "    }\n",
              "\n",
              "    [theme=dark] .colab-df-convert {\n",
              "      background-color: #3B4455;\n",
              "      fill: #D2E3FC;\n",
              "    }\n",
              "\n",
              "    [theme=dark] .colab-df-convert:hover {\n",
              "      background-color: #434B5C;\n",
              "      box-shadow: 0px 1px 3px 1px rgba(0, 0, 0, 0.15);\n",
              "      filter: drop-shadow(0px 1px 2px rgba(0, 0, 0, 0.3));\n",
              "      fill: #FFFFFF;\n",
              "    }\n",
              "  </style>\n",
              "\n",
              "      <script>\n",
              "        const buttonEl =\n",
              "          document.querySelector('#df-0154fd6c-d787-4744-921b-a7b14d0faab3 button.colab-df-convert');\n",
              "        buttonEl.style.display =\n",
              "          google.colab.kernel.accessAllowed ? 'block' : 'none';\n",
              "\n",
              "        async function convertToInteractive(key) {\n",
              "          const element = document.querySelector('#df-0154fd6c-d787-4744-921b-a7b14d0faab3');\n",
              "          const dataTable =\n",
              "            await google.colab.kernel.invokeFunction('convertToInteractive',\n",
              "                                                     [key], {});\n",
              "          if (!dataTable) return;\n",
              "\n",
              "          const docLinkHtml = 'Like what you see? Visit the ' +\n",
              "            '<a target=\"_blank\" href=https://colab.research.google.com/notebooks/data_table.ipynb>data table notebook</a>'\n",
              "            + ' to learn more about interactive tables.';\n",
              "          element.innerHTML = '';\n",
              "          dataTable['output_type'] = 'display_data';\n",
              "          await google.colab.output.renderOutput(dataTable, element);\n",
              "          const docLink = document.createElement('div');\n",
              "          docLink.innerHTML = docLinkHtml;\n",
              "          element.appendChild(docLink);\n",
              "        }\n",
              "      </script>\n",
              "    </div>\n",
              "  </div>\n",
              "  "
            ]
          },
          "metadata": {},
          "execution_count": 300
        }
      ]
    },
    {
      "cell_type": "code",
      "source": [
        "df['month']=df[\"DATE\"].dt.month\n",
        "df"
      ],
      "metadata": {
        "id": "JPqNx0sz6sBe",
        "colab": {
          "base_uri": "https://localhost:8080/",
          "height": 423
        },
        "outputId": "d6d4da7d-8b99-4190-bed1-64907eaaba7c"
      },
      "execution_count": null,
      "outputs": [
        {
          "output_type": "execute_result",
          "data": {
            "text/plain": [
              "            DATE              WEC  WEC Type  GENERATION               SITE  \\\n",
              "0     2013-01-04   TEXOTI-01 (67)  E-53/800        1593            TINWARI   \n",
              "1     2013-01-04   TEXOJD-02 (40)  E-53/800        2364  PITHODAI KI DHANI   \n",
              "2     2013-01-04       TEXONIC-01  E-40/600        1202      TANDAYARKULAM   \n",
              "3     2013-01-04       TEXONIC-02  E-40/600        1375      TANDAYARKULAM   \n",
              "4     2013-01-04   TEXODH-01 (21)  E-48/800        1278         DHARAPURAM   \n",
              "...          ...              ...       ...         ...                ...   \n",
              "31140 2021-01-01   TEXONE-01 (20)  E-48/800         605             NETTUR   \n",
              "31141 2021-01-01   TEXOPU-01 (41)  E-48/800         590         PUSHPATHUR   \n",
              "31142 2021-01-01   TEXOPU-02 (11)  E-48/800         616         PUSHPATHUR   \n",
              "31143 2021-01-01  TEXOPU-03 (312)  E-53/800         292         PUSHPATHUR   \n",
              "31144 2021-01-01   TEXOTP-01 (51)  E-53/800        1805          TADIPATRI   \n",
              "\n",
              "               STATE   month  \n",
              "0           RAJASTHAN      1  \n",
              "1           RAJASTHAN      1  \n",
              "2           TAMILNADU      1  \n",
              "3           TAMILNADU      1  \n",
              "4           TAMILNADU      1  \n",
              "...               ...    ...  \n",
              "31140       TAMILNADU      1  \n",
              "31141       TAMILNADU      1  \n",
              "31142       TAMILNADU      1  \n",
              "31143       TAMILNADU      1  \n",
              "31144  ANDHRA PRADESH      1  \n",
              "\n",
              "[31145 rows x 7 columns]"
            ],
            "text/html": [
              "\n",
              "  <div id=\"df-e1d501ba-75ac-472f-8110-d395ce6b3c58\">\n",
              "    <div class=\"colab-df-container\">\n",
              "      <div>\n",
              "<style scoped>\n",
              "    .dataframe tbody tr th:only-of-type {\n",
              "        vertical-align: middle;\n",
              "    }\n",
              "\n",
              "    .dataframe tbody tr th {\n",
              "        vertical-align: top;\n",
              "    }\n",
              "\n",
              "    .dataframe thead th {\n",
              "        text-align: right;\n",
              "    }\n",
              "</style>\n",
              "<table border=\"1\" class=\"dataframe\">\n",
              "  <thead>\n",
              "    <tr style=\"text-align: right;\">\n",
              "      <th></th>\n",
              "      <th>DATE</th>\n",
              "      <th>WEC</th>\n",
              "      <th>WEC Type</th>\n",
              "      <th>GENERATION</th>\n",
              "      <th>SITE</th>\n",
              "      <th>STATE</th>\n",
              "      <th>month</th>\n",
              "    </tr>\n",
              "  </thead>\n",
              "  <tbody>\n",
              "    <tr>\n",
              "      <th>0</th>\n",
              "      <td>2013-01-04</td>\n",
              "      <td>TEXOTI-01 (67)</td>\n",
              "      <td>E-53/800</td>\n",
              "      <td>1593</td>\n",
              "      <td>TINWARI</td>\n",
              "      <td>RAJASTHAN</td>\n",
              "      <td>1</td>\n",
              "    </tr>\n",
              "    <tr>\n",
              "      <th>1</th>\n",
              "      <td>2013-01-04</td>\n",
              "      <td>TEXOJD-02 (40)</td>\n",
              "      <td>E-53/800</td>\n",
              "      <td>2364</td>\n",
              "      <td>PITHODAI KI DHANI</td>\n",
              "      <td>RAJASTHAN</td>\n",
              "      <td>1</td>\n",
              "    </tr>\n",
              "    <tr>\n",
              "      <th>2</th>\n",
              "      <td>2013-01-04</td>\n",
              "      <td>TEXONIC-01</td>\n",
              "      <td>E-40/600</td>\n",
              "      <td>1202</td>\n",
              "      <td>TANDAYARKULAM</td>\n",
              "      <td>TAMILNADU</td>\n",
              "      <td>1</td>\n",
              "    </tr>\n",
              "    <tr>\n",
              "      <th>3</th>\n",
              "      <td>2013-01-04</td>\n",
              "      <td>TEXONIC-02</td>\n",
              "      <td>E-40/600</td>\n",
              "      <td>1375</td>\n",
              "      <td>TANDAYARKULAM</td>\n",
              "      <td>TAMILNADU</td>\n",
              "      <td>1</td>\n",
              "    </tr>\n",
              "    <tr>\n",
              "      <th>4</th>\n",
              "      <td>2013-01-04</td>\n",
              "      <td>TEXODH-01 (21)</td>\n",
              "      <td>E-48/800</td>\n",
              "      <td>1278</td>\n",
              "      <td>DHARAPURAM</td>\n",
              "      <td>TAMILNADU</td>\n",
              "      <td>1</td>\n",
              "    </tr>\n",
              "    <tr>\n",
              "      <th>...</th>\n",
              "      <td>...</td>\n",
              "      <td>...</td>\n",
              "      <td>...</td>\n",
              "      <td>...</td>\n",
              "      <td>...</td>\n",
              "      <td>...</td>\n",
              "      <td>...</td>\n",
              "    </tr>\n",
              "    <tr>\n",
              "      <th>31140</th>\n",
              "      <td>2021-01-01</td>\n",
              "      <td>TEXONE-01 (20)</td>\n",
              "      <td>E-48/800</td>\n",
              "      <td>605</td>\n",
              "      <td>NETTUR</td>\n",
              "      <td>TAMILNADU</td>\n",
              "      <td>1</td>\n",
              "    </tr>\n",
              "    <tr>\n",
              "      <th>31141</th>\n",
              "      <td>2021-01-01</td>\n",
              "      <td>TEXOPU-01 (41)</td>\n",
              "      <td>E-48/800</td>\n",
              "      <td>590</td>\n",
              "      <td>PUSHPATHUR</td>\n",
              "      <td>TAMILNADU</td>\n",
              "      <td>1</td>\n",
              "    </tr>\n",
              "    <tr>\n",
              "      <th>31142</th>\n",
              "      <td>2021-01-01</td>\n",
              "      <td>TEXOPU-02 (11)</td>\n",
              "      <td>E-48/800</td>\n",
              "      <td>616</td>\n",
              "      <td>PUSHPATHUR</td>\n",
              "      <td>TAMILNADU</td>\n",
              "      <td>1</td>\n",
              "    </tr>\n",
              "    <tr>\n",
              "      <th>31143</th>\n",
              "      <td>2021-01-01</td>\n",
              "      <td>TEXOPU-03 (312)</td>\n",
              "      <td>E-53/800</td>\n",
              "      <td>292</td>\n",
              "      <td>PUSHPATHUR</td>\n",
              "      <td>TAMILNADU</td>\n",
              "      <td>1</td>\n",
              "    </tr>\n",
              "    <tr>\n",
              "      <th>31144</th>\n",
              "      <td>2021-01-01</td>\n",
              "      <td>TEXOTP-01 (51)</td>\n",
              "      <td>E-53/800</td>\n",
              "      <td>1805</td>\n",
              "      <td>TADIPATRI</td>\n",
              "      <td>ANDHRA PRADESH</td>\n",
              "      <td>1</td>\n",
              "    </tr>\n",
              "  </tbody>\n",
              "</table>\n",
              "<p>31145 rows × 7 columns</p>\n",
              "</div>\n",
              "      <button class=\"colab-df-convert\" onclick=\"convertToInteractive('df-e1d501ba-75ac-472f-8110-d395ce6b3c58')\"\n",
              "              title=\"Convert this dataframe to an interactive table.\"\n",
              "              style=\"display:none;\">\n",
              "        \n",
              "  <svg xmlns=\"http://www.w3.org/2000/svg\" height=\"24px\"viewBox=\"0 0 24 24\"\n",
              "       width=\"24px\">\n",
              "    <path d=\"M0 0h24v24H0V0z\" fill=\"none\"/>\n",
              "    <path d=\"M18.56 5.44l.94 2.06.94-2.06 2.06-.94-2.06-.94-.94-2.06-.94 2.06-2.06.94zm-11 1L8.5 8.5l.94-2.06 2.06-.94-2.06-.94L8.5 2.5l-.94 2.06-2.06.94zm10 10l.94 2.06.94-2.06 2.06-.94-2.06-.94-.94-2.06-.94 2.06-2.06.94z\"/><path d=\"M17.41 7.96l-1.37-1.37c-.4-.4-.92-.59-1.43-.59-.52 0-1.04.2-1.43.59L10.3 9.45l-7.72 7.72c-.78.78-.78 2.05 0 2.83L4 21.41c.39.39.9.59 1.41.59.51 0 1.02-.2 1.41-.59l7.78-7.78 2.81-2.81c.8-.78.8-2.07 0-2.86zM5.41 20L4 18.59l7.72-7.72 1.47 1.35L5.41 20z\"/>\n",
              "  </svg>\n",
              "      </button>\n",
              "      \n",
              "  <style>\n",
              "    .colab-df-container {\n",
              "      display:flex;\n",
              "      flex-wrap:wrap;\n",
              "      gap: 12px;\n",
              "    }\n",
              "\n",
              "    .colab-df-convert {\n",
              "      background-color: #E8F0FE;\n",
              "      border: none;\n",
              "      border-radius: 50%;\n",
              "      cursor: pointer;\n",
              "      display: none;\n",
              "      fill: #1967D2;\n",
              "      height: 32px;\n",
              "      padding: 0 0 0 0;\n",
              "      width: 32px;\n",
              "    }\n",
              "\n",
              "    .colab-df-convert:hover {\n",
              "      background-color: #E2EBFA;\n",
              "      box-shadow: 0px 1px 2px rgba(60, 64, 67, 0.3), 0px 1px 3px 1px rgba(60, 64, 67, 0.15);\n",
              "      fill: #174EA6;\n",
              "    }\n",
              "\n",
              "    [theme=dark] .colab-df-convert {\n",
              "      background-color: #3B4455;\n",
              "      fill: #D2E3FC;\n",
              "    }\n",
              "\n",
              "    [theme=dark] .colab-df-convert:hover {\n",
              "      background-color: #434B5C;\n",
              "      box-shadow: 0px 1px 3px 1px rgba(0, 0, 0, 0.15);\n",
              "      filter: drop-shadow(0px 1px 2px rgba(0, 0, 0, 0.3));\n",
              "      fill: #FFFFFF;\n",
              "    }\n",
              "  </style>\n",
              "\n",
              "      <script>\n",
              "        const buttonEl =\n",
              "          document.querySelector('#df-e1d501ba-75ac-472f-8110-d395ce6b3c58 button.colab-df-convert');\n",
              "        buttonEl.style.display =\n",
              "          google.colab.kernel.accessAllowed ? 'block' : 'none';\n",
              "\n",
              "        async function convertToInteractive(key) {\n",
              "          const element = document.querySelector('#df-e1d501ba-75ac-472f-8110-d395ce6b3c58');\n",
              "          const dataTable =\n",
              "            await google.colab.kernel.invokeFunction('convertToInteractive',\n",
              "                                                     [key], {});\n",
              "          if (!dataTable) return;\n",
              "\n",
              "          const docLinkHtml = 'Like what you see? Visit the ' +\n",
              "            '<a target=\"_blank\" href=https://colab.research.google.com/notebooks/data_table.ipynb>data table notebook</a>'\n",
              "            + ' to learn more about interactive tables.';\n",
              "          element.innerHTML = '';\n",
              "          dataTable['output_type'] = 'display_data';\n",
              "          await google.colab.output.renderOutput(dataTable, element);\n",
              "          const docLink = document.createElement('div');\n",
              "          docLink.innerHTML = docLinkHtml;\n",
              "          element.appendChild(docLink);\n",
              "        }\n",
              "      </script>\n",
              "    </div>\n",
              "  </div>\n",
              "  "
            ]
          },
          "metadata": {},
          "execution_count": 301
        }
      ]
    },
    {
      "cell_type": "markdown",
      "source": [
        "Graph for overall generation of each year of each month(x axis of month and y axis of generation"
      ],
      "metadata": {
        "id": "7knNyKsdQnVt"
      }
    },
    {
      "cell_type": "code",
      "source": [
        "df.groupby(df[\"DATE\"].dt.month)[\"GENERATION\"].sum().plot()"
      ],
      "metadata": {
        "colab": {
          "base_uri": "https://localhost:8080/",
          "height": 308
        },
        "id": "Pp_wRXpCH_0v",
        "outputId": "543a5a4e-f8e6-427f-e7e6-413ea593b9d9"
      },
      "execution_count": null,
      "outputs": [
        {
          "output_type": "execute_result",
          "data": {
            "text/plain": [
              "<AxesSubplot:xlabel='DATE'>"
            ]
          },
          "metadata": {},
          "execution_count": 309
        },
        {
          "output_type": "display_data",
          "data": {
            "text/plain": [
              "<Figure size 432x288 with 1 Axes>"
            ],
            "image/png": "iVBORw0KGgoAAAANSUhEUgAAAXQAAAERCAYAAABrWly6AAAAOXRFWHRTb2Z0d2FyZQBNYXRwbG90bGliIHZlcnNpb24zLjUuMywgaHR0cHM6Ly9tYXRwbG90bGliLm9yZy/NK7nSAAAACXBIWXMAAAsTAAALEwEAmpwYAAAoC0lEQVR4nO3deXyc1X0u8Oc3M9r3zZJGu2R5lS3bCLDxAgmbMZYhCaG4TZoUCHDbpEma2zb5NKVpki63203vbZNAUkKTNhBiUpBcmyUQkGxsg2QsWbaxZEu2tWtG+65ZTv+YMQhjW2NpRmfmnef7+fjDaGY080xiPX513nPOK0opEBFR6DPpDkBERP7BQiciMggWOhGRQbDQiYgMgoVORGQQLHQiIoPQWugi8pSI9IlIkw/P/b8icsz7p1lEhhYhIhFRyBCd89BFZBuAMQA/VUqVXcP3fQnAeqXUgwELR0QUYrQeoSulagAMzL5PREpE5CURqReRWhFZcZlv3Q3gmUUJSUQUIiy6A1zGkwAeU0q1iMiNAL4P4OMXHxSRAgBFAF7XlI+IKCgFVaGLSDyAmwD8UkQu3h11ydMeALBHKeVazGxERMEuqAodniGgIaXUuqs85wEAf7A4cYiIQkdQTVtUSo0AaBORTwOAeJRffNw7np4C4JCmiEREQUv3tMVn4Cnn5SLSISIPAfgdAA+JSAOAEwDumfUtDwB4VnGLSCKij9A6bZGIiPwnqIZciIho/rSdFE1PT1eFhYW63p6IKCTV19fblVIZl3tMW6EXFhairq5O19sTEYUkETl/pcc45EJEZBAsdCIig2ChExEZBAudiMggWOhERAbBQiciMggWOhGRQQTbbotEfvPisU50D08hMToCSTERSIyxeP7r/Toh2gKLmcc0ZBwsdDIk2+g0vvzssTmfFx9leb/cPaUf8aHSv/iPwOUei44wYda+/UTasdDJkA6csQEAnnt0E/JTYzE86cDIlAPDE44Pbk86MDLp/NDX7QMTODHpuT0+c/VrqESY5f2CT4yJQEFaLL69qwxJsRGL8RGJPoKFToZU22xHalwkKgpSYDIJspKir/k1nC43RqacGPEW/NX+IRiZdGBvYzfioiz460+sCcAnIpobC50MRymFmhY7tixNh8k0/yERi9mE1LhIpMZF+vT87+w9iacOtuHT1+VifX7KvN+XaL54RogM572eUdjHprG1NH1R3/erty/DkoQofPOFJrjcvM4ALT4WOhlObYtn/Hxr6WV3GA2Y+CgLHt+5Gie6RvCzQ+cW9b2JABY6GVBtix3LMuPnNW6+UDvWZGFraTr+8ZVm9I1MLfr7U3hjoZOhTDlcONI2sOhH5xeJCL59TxmmnW781b5TWjJQ+GKhk6EcaRvAjNO96OPnsxWlx+GxW0rw4rEuvHXGri0HhR8WOhlKbbMNkRYTbixK05rj928pQX5qLL75YhNmnG6tWSh8sNDJUGpb7LihMBUxkWatOaIjzPjLe1aj1TaOH9W2as1C4YOFTobROzKF072jWodbZvvY8iXYvjoL///1FrQPTOiOQ2GAhU6GUdviGa/WdUL0ch6vXAWTCP6y+oTuKBQG5ix0EXlKRPpEpGmO510vIk4Ruc9/8Yh8V9tiQ3p8FFZkJeiO8j5rcgy+clspfn2qD6+e7NUdhwzOlyP0pwFsv9oTRMQM4P8AeMUPmYiumdutcKDFjq2lC1vuHwi/t7kIyzLj8a2qE5iYceqOQwY2Z6ErpWoADMzxtC8BeB5Anz9CEV2rk90j6B+fCZrx89kizCZ899416ByaxL+8fkZ3HDKwBY+hi0gOgE8A+IEPz31EROpEpM5msy30rYneV+Nd7r8lCAsdAG4oSsWnNuTiR7WtONM3qjsOGZQ/Top+D8CfKqXmnGyrlHpSKVWhlKrIyAieE1cU+mqb7ViZnYglCYu/3N9X39ixAjERZvz5CyegFDfvIv/zR6FXAHhWRM4BuA/A90XkXj+8LpFPJmacqDs/gG1BenR+UXp8FP5k+wocau3Hi8e6dMchA1pwoSulipRShUqpQgB7APy+UuqFhb4uka+OtA7A4VJBNV3xSnbfkI/y3CR8979PYXjSoTsOGYwv0xafAXAIwHIR6RCRh0TkMRF5LPDxiOZW02JDlMWEisLgv6iE2ST47r1rMDA+jX965bTuOGQwc16xSCm129cXU0p9fkFpiOahptmGG4vTEB2hd7m/r9bkJuGzGwvws8Pncd91eViTm6Q7EhkEV4pSSOscmsRZ23jQj59f6o/uWI7UuCh884XjvLoR+Q0LnULaAe90xW3Lgn/8fLakmAh88+6VaOgYxrPvXNAdhwyChU4hrabFjszEKJQuidcd5Zrds86KjcWp+LuXTsM+Nq07DhkAC51ClsutcPCMHVtLMyASXMv9fSEi+O69ZRifduJv9r2nOw4ZAAudQlZT5zCGJhxBudzfV0uXJOAL24rx/NEOHGnt1x2HQhwLnUJW7cXl/ktDt9AB4A8/Xoqc5Bj8+YtNcLh4dSOaPxY6hayaZjvKchKRFh+lO8qCxESa8a1dq9HcO4afHGzTHYdCGAudQtLolANHLwyGxOpQX9y+KhO3rVyC7/26BV1Dk7rjUIhioVNIOtw6AKdbYZtBCh0A/qJyNdxK4Tt7T+qOQiGKhU4hqbbFhthIMzYUJOuO4jd5qbH40sdLsb+pB785zUsL0LVjoVNIqm2xY2NxGqIsobHc31cPby1CcUYc/uLFE5hyuHTHoRDDQqeQ0z4wgTb7eEhPV7ySKIsZ37mnDBcGJvD9N87qjkMhhoVOIefi1YmMckL0UpuXpmNXuRU/fOMs2uzjuuNQCGGhU8ipbbbDmhSNkow43VEC5pt3r0SUxYTHX2zi1Y3IZyx0CilOlxsHz9qxbVloLvf31ZLEaHztjmWobbFj3/Ee3XEoRLDQKaQ0dAxjdMpp2OGW2T6zsQCrrYn49t4TGJt26o5DIYCFTiGltsUGEWDz0jTdUQLOYjbhu/eWoW90Gt97tVl3HAoBLHQKKbUtdqzNTUZybKTuKItifX4KHrg+Hz956xxOdY/ojkNBjoVOIWN40oFj7UMhd3WihfqTO5d7LojxQhPcvLoRXQULnULGobN2uNwqLMbPZ0uJi8TX71qB+vOD2FPfoTsOBTEWOoWMmhY74qMsWJ+frDvKortvQy6uL0zB3+w/hcHxGd1xKEix0CkkKKVQ02zDppI0RJjD76+tyST4zr1lGJly4u9e5tWN6PLC7yeDQtL5/gl0DE6G3fj5bCuyEvHg5kI883Y7jl4Y1B2HghALnUJCrcGX+/vqy7ctQ1ZiNP7sv5rg5NWN6BIsdAoJNS125KXGoCAtVncUreKjLHi8chVOdY/gp4fO645DQYaFTkHP4XLj0Nl+bC019nJ/X91VloWtpen459daMM4VpDQLC52C3rsXhjA27Qzr8fPZRARfvX0Zhicd+MU77brjUBBhoVPQq22xwWwSbCphoV+0IT8FNxSm4t8OtMHBsXTyYqFT0KtpsWNdXjKSYiJ0Rwkqj95cjM6hSew73q07CgWJOQtdRJ4SkT4RabrC478jIo0iclxE3hKRcv/HpHA1NDGDxo4hQ16daKE+tnwJli6Jxw/fbOWe6QTAtyP0pwFsv8rjbQBuVkqtAfAdAE/6IRcRAODgmX4oxemKl2MyCR7ZVoxT3SOobbHrjkNBYM5CV0rVABi4yuNvKaUurnI4DCDXT9mIUNtiQ0K0BeW5SbqjBKV71lmRmRiFJ2p4/VHy/xj6QwD2X+lBEXlEROpEpM5ms/n5rcloLi7331ySDksYLvf3RZTFjAc3F+HgmX4c7xjWHYc089tPiYh8DJ5C/9MrPUcp9aRSqkIpVZGRwV+h6erO2sbRNTyFrcs4fn41u2/MR0KUhUfp5J9CF5G1AH4M4B6lVL8/XpPo4nL/bRw/v6rE6Aj89sZ87DvejfaBCd1xSKMFF7qI5AP4FYDPKqV4nSzym9oWO4rS45CXGt7L/X3x4OYimE2CH9e26o5CGvkybfEZAIcALBeRDhF5SEQeE5HHvE95HEAagO+LyDERqQtgXgoT006Xd7k/h1t8kZkYjXvX5eAXde0Y4H7pYcsy1xOUUrvnePxhAA/7LRERgKPnhzDpcHG64jV4ZFsxflnfgZ8eOoev3LZMdxzSgFMHKCjVtthgMQk2FqfqjhIySjMTcNvKJfj3t85hcsalOw5pwEKnoFTTYsOG/BQkRHO5/7V49OYSDE448Mt6btoVjljoFHT6x6bR1DnC8fN5qChIwYb8ZPy4to0XwAhDLHQKOgfOeJaxb1vG8fNrJSJ49OYSXBiYwEsnenTHoUXGQqegU9tiR3JsBMpyuNx/Pm5fmYni9Dg8wU27wg4LnYKKUgq1LTZsXpoOs4lXJ5oPk0nwhW3FON45jENnuc4vnLDQKai09I2hd2SaVydaoE+sz0F6fBR+WMOFRuGEhU5BpabZs9x/C+efL0h0hBm/t7kQNc02nOwa0R2HFgkLnYJKTYsdJRlxyEmO0R0l5H3mxgLERZrxI24HEDZY6BQ0phwuHGnt5+pQP0mKjcDuG/JR1dCFjkFu2hUOWOgUNOrODWLa6cbNnK7oNw9uKYIAeOrAOd1RaBGw0Clo1LbYEGEW3Mjl/n5jTY7BrnIrnn3nAoYmuGmX0bHQKWjUtNhRUZCK2Mg594yja/DIzcWYmHHhPw6f1x2FAoyFTkGhb3QKp7pHeHWiAFiRlYhblmfg6bfOYcrBTbuMjIVOQeGA96r1vDpRYDy6rQT2sRn86min7igUQCx0Cgq1LXakxUViVXai7iiGtLE4FeW5SfhRbStcbm4HYFQsdNLO7VaobbFjS2k6TFzuHxAXN+1qs4/j1ZPctMuoWOik3Xs9o7CPTXP+eYDduToLBWmx+AE37TIsFjppV9viWe7P/c8Dy2wSPLy1GA3tQ3i7bUB3HAoAFjppV9tix/LMBGQmRuuOYnifvi4XaXGReIKbdhkSC520mpxx4e1zAzw6XyTREWZ87qZCvP5eH5p7R3XHIT9joZNWR9r6MeN0YyuX+y+az24sQEyEGU/yKN1wWOikVW2LHZEWE24o5HL/xZISF4nfuj4PLx7rRPfwpO445EcsdNKqtsWGG4tSERNp1h0lrDy0pQhuBfzk4DndUciPWOikTc/wFJp7xzh+rkFeaizuXpONnx+5gOFJh+445CcsdNLmg+mKHD/X4ZFtxRibduLnRy7ojkJ+wkInbWpb7EiPj8KKrATdUcJSWU4Stpam4ycH2zDt5KZdRsBCJy3cboUDZ+zYVpoOES731+XRbSXoG53Gi+926Y5CfsBCJy1OdI1gYHyG2+VqtnlpGlZbE/FEzVm4uWlXyGOhkxY13vHzLUs5fq7TxU27ztrG8dp7fbrj0ALNWegi8pSI9IlI0xUeFxH5fyJyRkQaRWSD/2OS0dS22LAqOxEZCVG6o4S9HWVZyE2JwRNvntUdhRbIlyP0pwFsv8rjdwEo9f55BMAPFh6LjGx82on684McbgkSFrMJD28pQt35QdSf56ZdoWzOQldK1QC42v/L9wD4qfI4DCBZRLL9FZCM50hbPxwuxasTBZH7r89DcmwEnniT2wGEMn+MoecAaJ/1dYf3vo8QkUdEpE5E6mw2mx/emkJRTbMd0REmXFeQojsKecVGWvC7mwrx6qlenOkb0x2H5mlRT4oqpZ5USlUopSoyMnh0Fq5qWmy4sSgN0RFc7h9MPrepAJFmE35cy6P0UOWPQu8EkDfr61zvfUQf0TE4gVbbOJf7B6G0+CjcX5GHXx3tRN/IlO44NA/+KPQqAL/rne2yEcCwUqrbD69LBnSgxQ4AuJnb5Qalh7cWwel24ydvndMdhebBl2mLzwA4BGC5iHSIyEMi8piIPOZ9yj4ArQDOAPgRgN8PWFoKebUtdmQlRmPpknjdUegyCtLicFdZNv7j8HmMTnHTrlBjmesJSqndczyuAPyB3xKRYbm8y/3vWJXJ5f5B7JFtxfjv49149u12fGFbse44dA24UpQWzfHOYQxPOnh1oiBXnpeMTcVpeOpgG2acbt1x6Bqw0GnR1DbbIAJsWcoTosHu0ZuL0T08heoGbtoVSljotGheOdmLtTlJSI2L1B2F5nDzsgysyErAEzVn4RlVpVDAQqdF0WYfx/HOYVSWW3VHIR94Nu0qRnPvGN44zUWAoYKFTouiuqELIsDda7krRKjYudYKa1I0fshNu0IGC50CTimFqoYuXF+YiuykGN1xyEcRZhMe3FKEI20DONY+pDsO+YCFTgH3Xs8ozvSNcbglBD1wQz4Soy14soZH6aGAhU4BV9XQBbNJsKMsS3cUukbxURZ8dlMB9jf14Jx9XHccmgMLnQJKKYXqhi5sXpqOtHhezCIUff6mIkSYTPjpofO6o9AcWOgUUO+2D6FjcBK7ONwSsjISovCxFRnY29gFF687GtRY6BRQ1Q1diLSYcMfqTN1RaAEqy63oG53G2228olEwY6FTwLjcCnsbu/Gx5RlIjI7QHYcW4NYVmYiNNKOKK0eDGgudAuZIWz9so9Oc3WIAMZFm3L4qE/ubuuFwcX+XYMVCp4CpbuhCbKQZt67gcIsR7Cq3YmjC8f6e9hR8WOgUEDNON/Y39eD2VZmIieSl5oxga2kGkmIiuGFXEGOhU0AcOGPD0ISDs1sMJNJiwl1lWXj5RA+mHC7dcegyWOgUENUN3UiKicDWUu59biSV5VaMz7jwm/f6dEehy2Chk99Nzrjwyoke3FWWhUgL/4oZycbiNKTHR3G2S5DiTxv53W9O92F8xsXhFgMymwQ712bj9ff6eM3RIMRCJ7+rOtaFjIQo3FicpjsKBUBluRXTTjdePdmrOwpdgoVOfjU65cDrp/tw95psmE28ELQRbchPRk5yDGe7BCEWOvnVKyd6MeN0czGRgYkIKsutqG2xY3B8RnccmoWFTn5V1dCFnOQYbMhP1h2FAqiyPBtOt8L+ph7dUWgWFjr5zcD4DA6csaOy3AoRDrcY2arsRJRkxKGqoVN3FJqFhU5+s+94N1xuxdktYeDisMuRtgH0jkzpjkNeLHTym+qGLpRkxGFldoLuKLQIKsutUArY29itOwp5sdDJL3qGp/D2uQHsKs/hcEuYKMmIx2prIme7BBEWOvnF3sYuKOU5WUbhY1e5Fcfah3Chf0J3FAILnfykuqELZTmJKM6I1x2FFtFO7/mS6kYepQcDnwpdRLaLyGkROSMiX7/M4/ki8hsReVdEGkVkh/+jUrA63z+Oho5hVK7lydBwk5Mcg4qCFA67BIk5C11EzAD+FcBdAFYB2C0iqy552jcBPKeUWg/gAQDf93dQCl4Xf5h3cnZLWKost+K9nlE0947qjhL2fDlCvwHAGaVUq1JqBsCzAO655DkKQKL3dhIA/nMdRqobulFRkIKc5BjdUUiDHWuyYRLwKD0I+FLoOQDaZ33d4b1vtm8B+IyIdADYB+BLl3shEXlEROpEpM5ms80jLgWb0z2jON07il3reHQerjISonBTSTqqG7qglNIdJ6z566TobgBPK6VyAewA8DMR+chrK6WeVEpVKKUqMjJ44QMjqG7ogkmAu8o4uyWc7Sq34lz/BI53DuuOEtZ8KfROAHmzvs713jfbQwCeAwCl1CEA0QDS/RGQgpdSClUNXdi8NB0ZCVG645BGd67OQoRZOOyimS+F/g6AUhEpEpFIeE56Vl3ynAsAbgUAEVkJT6FzTMXgGjuGcWFggrNbCEmxEbh5WQb2NnbD7eawiy5zFrpSygngiwBeBnAKntksJ0Tk2yKyy/u0rwH4gog0AHgGwOcVB9MMr6qhC5FmE+4sy9IdhYJAZbkV3cNTqDs/qDtK2LL48iSl1D54TnbOvu/xWbdPAtjs32gUzNxuhb2NXbh5eQaSYiJ0x6EgcNvKTERHmFDV0IkbilJ1xwlLXClK8/L2uQH0jkzzQhb0vrgoC25bmYl9x3vgdLl1xwlLLHSal+qGLsREmHHbyiW6o1AQqSy3YmB8BgfP9uuOEpZY6HTNHC439h3vxm2rMhEb6dOoHYWJW5ZnICHawtkumrDQ6ZodPGPH4ISDF7Kgj4iymHHn6iy83NSDKYdLd5yww0Kna1bV0IXEaAu2LeNSA/qoXeVWjE478WYzZy4vNhY6XZMphwuvnOjF9rIsRFnMuuNQELqpJA1pcZGo4rDLomOh0zV543QfxqadnN1CV2Qxm7BjTTZeO9WL8Wmn7jhhhYVO16SqoQvp8ZHYVJymOwoFscpyK6Ycbvz6VK/uKGGFhU4+G5t24rVTfdixJhsWM//q0JVVFKQgOymas10WGX8qyWevnuzBtNPN2S00J5NJsHNtNt5stmFoYkZ3nLDBQiefVTd0w5oUjQ35KbqjUAjYVZ4Dh0vh5RM9uqOEDRY6+WRwfAY1zTZUllthMonuOBQCynISUZgWy9kui4iFTj556UQPnG7F2S3kMxHBrnIrDp3tR9/olO44YYGFTj6pOtaF4vQ4rLYmzv1kIq/KcivcCtjX2K07SlhgodOc+kamcLitHzvLrRDhcAv5rjQzASuyElDNQl8ULHSa097GbigFzm6heakst6L+/CA6Bid0RzE8FjrNqbqxC6uyE7F0SbzuKBSCLh4I7OVResCx0Omq2gcm8O6FIZ4MpXnLS43FurxkVB3jbJdAY6HTVVU3en4Id67N1pyEQtmucitOdo/gTN+Y7iiGxkKnq6o61oUN+cnIS43VHYVC2N1rsyECbgUQYCx0uqKW3lG81zPKk6G0YJmJ0dhYlIbqxi4opXTHMSwWOl1RdUMXTALs4HAL+UFluRWttnGc7B7RHcWwWOh0WUopVDd2Y1NJGpYkROuOQwZwV1kWLCbhVgABxEKny2rqHEGbfRyVazncQv6REheJraXp2NvQzWGXAGGh02VVN3YhwizYXpalOwoZyK51VnQOTeLohUHdUQyJhU4f4XYrVDd0YVtpBpJjI3XHIQO5fVUWoiwmVDdwkVEgsNDpI+rOD6J7eAq71nG4hfwrPsqCW1cuwd7Gbjhdbt1xDIeFTh9R3dCF6AgTbluZqTsKGVDlWivsY9M40jagO4rhsNDpQ5wuN/Yd78atKzMRF2XRHYcM6GMrliA+ysKtAAKAhU4f8tbZfvSPz3B2CwVMdIQZd6zKxP6mbsw4OeziTz4VuohsF5HTInJGRL5+hefcLyInReSEiPzcvzFpsVQ1dCEhyoJblmfojkIGVrnOipEpJ2qabbqjGMqchS4iZgD/CuAuAKsA7BaRVZc8pxTANwBsVkqtBvAV/0elQJt2uvByUw/uWJ2F6Aiz7jhkYFuWpiMlNuL9zd/IP3w5Qr8BwBmlVKtSagbAswDuueQ5XwDwr0qpQQBQSvX5NyYthjdO2zA67eTsFgq4CLMJd63JxqsnezE549IdxzB8KfQcAO2zvu7w3jfbMgDLROSgiBwWke2XeyEReURE6kSkzmbjr1rBprqhC6lxkdhckqY7CoWByrVWTMy48Np7vbqjGIa/TopaAJQCuAXAbgA/EpHkS5+klHpSKVWhlKrIyOAYbTAZn3bi16d6sWNNFixmniunwLuhKBWZiVGc7eJHvvzkdgLIm/V1rve+2ToAVCmlHEqpNgDN8BQ8hYhfn+rFlMONXeWX/vJFFBhmk+DuNVa8cdqGkSmH7jiG4EuhvwOgVESKRCQSwAMAqi55zgvwHJ1DRNLhGYJp9V9MCrTqhi5kJ0WjoiBFdxQKI5Xl2ZhxufFyU4/uKIYwZ6ErpZwAvgjgZQCnADynlDohIt8WkV3ep70MoF9ETgL4DYA/Vkr1Byo0+dfwhANvNtuwc202TCbRHYfCyLq8ZOSlxqCaF5D2C5+WAiql9gHYd8l9j8+6rQD8kfcPhZiXTnTD4VK8EDQtOhFB5VornqhpRf/YNNLio3RHCmk8+0WobuhGYVos1uQk6Y5CYWjXOitcboV9HHZZMBZ6mOsbncJbZ+2oLLdChMMttPiWZyagdEk8qjnbZcFY6GFu//EeuBV4IWjSRkSwq9yKt88NoHt4UneckMZCD3NVDV1YkZWA0swE3VEojF08f7OXF75YEBZ6mBqecGBvYxfqzw/yZChpV5geh7W5SdzbZYG44XWYGJly4J22ARw6249Drf042T0CpYC0uEh8Yj0XE5F+lWut+Kt9p9BmH0dRepzuOCGJhW5QY9NOvHNuAIe9Bd7UOQy3AiItJmzIT8ZXbl2GjcWpWJefjCgLd1Yk/XaWZ+Ov9p3C3oYufOlWLjSfDxa6QUzMOPHOuUEcbu3HobP9ON45DJdbIcIsWJ+Xgi9+vBQbi1OxIT+FW+NSUMpOisENhamoaujCFz++lLOu5oGFHqImZ1yoPz+IQ612HG4dQEP7EJxuBYtJUJ6XjP91cwk2laRhQ34KYiJZ4BQaKtdZ8ecvNOF07yhWZCXqjhNyWOghYsrhwtELgzh8th+HWwfwbvsgHC4Fs0mwJicJX9hWjE3FabiuIIXXAqWQtaMsC9+qOoGqY11YsZ2Ffq34kx+kpp0uHLswhEOt/Tjc2o+jF4Yw43TDJEBZThIe3FyEjSVpuL4wFfEscDKItPgobF6ajurGLvzxncsNN+wyPOlAdUMXVmYn4LqCVL+/PptAs5EpB3qGp9A9PIXuoUl0Dk2i/vwg6s8PYtrphgiwKjsRv7uxAJtK0nB9USoSoyN0xyYKmHvXWfFHzzXg1n98E5+6Lhef3JCD7KQY3bHmze1WONzaj+fq2rG/qQfTTjce3lLEQg81F8u6a2jS89/hKfQMT3rKe3gKPcNTGJt2fuh7RDxLoX/7xnxsKk7DjUVpSIplgVP4+MT6HLgV8FxdO/7+5dP4h1dOY8vSdNx3XS7uWJUVMueEOocm8Xx9B35Z3472gUkkRFvw6Ypc/FZFPspyAjOcJJ6NEhdfRUWFqqur0/LeC6WUwui0E91DU+j+UEHPXdYZ8VHITo5BdmI0spOjkZ0UjaykGFiTopGVFI3MxGhE8IpBRACA8/3jeP5oJ56v70Dn0CQSoizYWZ6N+67LxYb8lKAbkpl2uvDqyV48V9eB2hYblAI2L03D/RV5uNNPF18XkXqlVMVlH2Ohewp6yuHGyJQDI5MODE86vLedGJlywD42g+6hSfSMfHC0PX7JhW2vVNbZSTHe0mZZE82X261wuK0fe+o7sP94DyYdLhSlx+FTG3LwiQ25yEnWOyRzsmsEz9W144VjnRiacMCaFI37KvLw6etykZca69f3CotCn3K4PlTCI5MOjEw5PeV8SUGPTH7w+MXHHK4r/+8gAixJiEJW0uXLOjs5BksSoljWRItgbNqJ/ce7sae+A0faBiACbC7xDMncuXrxhmSGJxx4saETz9W1o6lzBJFmE+5YnYn7K/KweWk6zAG6WIyhCv1Iaz++/8bZD5X2yKQD0073Vb8v0mxCYkwEEmMsSIyO8NyOtiAxJgJJMRHe+z54LOmSx1nWRMHnQv8Enj/ageePdqBjcBLxURbcvSYb91XkoqLA/0MybrfCW2c9JzhfOtGDGacbK7MT8VsVubh3fQ6SYyP9+n6Xc7VCD7mTok63wuDEDBKjI5CdFD2rjD8o4ETvfUmzCjrKYgq68TYiWpj8tFh89fZl+PKtpXj73AD21HegurELv6hrR2FaLD61IRefvG7hQzIdgxPYU9+BX9Z5xvIToy144Po83F+Rh7IgujBMyB2hExFdzfi0E/ubevB8fQcOtfZDBLipJA2f2pCL7WVZiI307Th2yuHCKyd78cu6dhw4Y4dSwJal6bj/+jzcsSpT2xYahhpyISLyVfvABH51tBN7jnqmDsZFmnH32mzcd10eri+8/JBMU+ew5wTnu50YmXIiJzkGn67Ixac2+P8E53yw0IkorLndCu94h2T2He/G+IwL+aneIZkNOUiItuDFY134xTvtONk9gkiLCdtXZ+H+ijzcVJIGU4BOcM4HC52IyGtixomXmnqwp74Db53tBwBEmAUOl0JZTiLur8jDrnLropzgnA9DnRQlIlqI2EgLPrkhF5/ckIuOwQn819FOjEw5cO/6HKy2Bs8JzvlgoRNR2MpNiTXUxTQ4uZqIyCBY6EREBsFCJyIyCBY6EZFBsNCJiAyChU5EZBAsdCIig2ChExEZhLal/yJiA3Bey5tfu3QAdt0hAsTInw0w9ufjZwtdC/l8BUqpjMs9oK3QQ4mI1F1p74RQZ+TPBhj78/Gzha5AfT4OuRARGQQLnYjIIFjovnlSd4AAMvJnA4z9+fjZQldAPh/H0ImIDIJH6EREBsFCJyIyCBb6VYhInoj8RkROisgJEfmy7kz+JiJmEXlXRPbqzuJPIpIsIntE5D0ROSUim3Rn8icR+ar372STiDwjItG6M82XiDwlIn0i0jTrvlQReVVEWrz/TdGZcSGu8Pn+3vt3s1FE/ktEkv3xXiz0q3MC+JpSahWAjQD+QERWac7kb18GcEp3iAD4ZwAvKaVWACiHgT6jiOQA+EMAFUqpMgBmAA/oTbUgTwPYfsl9XwfwmlKqFMBr3q9D1dP46Od7FUCZUmotgGYA3/DHG7HQr0Ip1a2UOuq9PQpPKeToTeU/IpIL4G4AP9adxZ9EJAnANgD/BgBKqRml1JDWUP5nARAjIhYAsQC6NOeZN6VUDYCBS+6+B8C/e2//O4B7FzOTP13u8ymlXlFKOb1fHgaQ64/3YqH7SEQKAawHcERzFH/6HoA/AeDWnMPfigDYAPzEO5z0YxGJ0x3KX5RSnQD+AcAFAN0AhpVSr+hN5XeZSqlu7+0eAJk6wwTYgwD2++OFWOg+EJF4AM8D+IpSakR3Hn8QkZ0A+pRS9bqzBIAFwAYAP1BKrQcwjtD+lf1DvOPJ98DzD5cVQJyIfEZvqsBRnrnVhpxfLSJ/Bs/Q7n/64/VY6HMQkQh4yvw/lVK/0p3HjzYD2CUi5wA8C+DjIvIfeiP5TQeADqXUxd+m9sBT8EZxG4A2pZRNKeUA8CsAN2nO5G+9IpINAN7/9mnO43ci8nkAOwH8jvLTgiAW+lWIiMAzDntKKfVPuvP4k1LqG0qpXKVUITwn1F5XShniKE8p1QOgXUSWe++6FcBJjZH87QKAjSIS6/07eisMdNLXqwrA57y3PwfgRY1Z/E5EtsMz3LlLKTXhr9dloV/dZgCfhefo9Zj3zw7docgnXwLwnyLSCGAdgL/WG8d/vL957AFwFMBxeH6OQ3apvIg8A+AQgOUi0iEiDwH4WwC3i0gLPL+R/K3OjAtxhc/3LwASALzq7ZUf+uW9uPSfiMgYeIRORGQQLHQiIoNgoRMRGQQLnYjIIFjoREQGwUKnsCAiLu/0sBMi0iAiXxMR0yXPeUFEDntv3zlrquqYiJz23v6piNwiIsOzHj8mIrfp+WREH+C0RQoLIjKmlIr33l4C4OcADiql/sJ7XzI8c7rHANytlGqd9b1vAPjfSqk679e3eL/euYgfgWhOPEKnsKOU6gPwCIAveldaAsAnAVTDsw1CKG9FS2GMhU5hyXsEbgawxHvXbgDPeP/s9uEltl4y5FISoKhEPrPoDkCkm4hkAigFcEAppUTEISJlSqmmq3xbLYdcKNjwCJ3CkogUA3DBs4vf/QBSALR5d58shG9H6URBhYVOYUdEMgD8EMC/eLct3Q1gu1Kq0Lv75HXgODqFIA65ULiIEZFjACLguaDAzwD8k/dKVAXwXAYMAKCUavNOS7xx1p7ql9rqfb2LvquU2hOQ5EQ+4rRFIiKD4JALEZFBsNCJiAyChU5EZBAsdCIig2ChExEZBAudiMggWOhERAbxPw7CW6/rDENfAAAAAElFTkSuQmCC\n"
          },
          "metadata": {
            "needs_background": "light"
          }
        }
      ]
    },
    {
      "cell_type": "code",
      "source": [
        "df.groupby(df[\"DATE\"].dt.year)[\"GENERATION\"].sum().plot()"
      ],
      "metadata": {
        "colab": {
          "base_uri": "https://localhost:8080/",
          "height": 308
        },
        "id": "5O4VyoqtNkGn",
        "outputId": "af79905c-88c7-47ac-d2fb-9099d60b2b75"
      },
      "execution_count": null,
      "outputs": [
        {
          "output_type": "execute_result",
          "data": {
            "text/plain": [
              "<AxesSubplot:xlabel='DATE'>"
            ]
          },
          "metadata": {},
          "execution_count": 312
        },
        {
          "output_type": "display_data",
          "data": {
            "text/plain": [
              "<Figure size 432x288 with 1 Axes>"
            ],
            "image/png": "iVBORw0KGgoAAAANSUhEUgAAAXQAAAERCAYAAABrWly6AAAAOXRFWHRTb2Z0d2FyZQBNYXRwbG90bGliIHZlcnNpb24zLjUuMywgaHR0cHM6Ly9tYXRwbG90bGliLm9yZy/NK7nSAAAACXBIWXMAAAsTAAALEwEAmpwYAAApdUlEQVR4nO3deXxcdb3/8dcna7c0k7Zpm2XSjS50naEB2S/7ItiCisJVEEEQAS/8BK/4u7/r9vP3uNfrfgWVKiDotYgIbUEUEFBkb0qSbnRfk7RN2mZr2qzz/f0xE4ihJUkzM2dm8n4+Hn0wy8k574b0nTPfc873mHMOERFJfmleBxARkehQoYuIpAgVuohIilChi4ikCBW6iEiKUKGLiKQITwvdzB40s1ozW9uPZX9oZhWRP5vMrCEOEUVEkoZ5eR66mZ0NHAIecc7NHcDXfREIOuduiFk4EZEk4+keunPuZeBgz9fMbJqZ/dnMVpnZ381s1lG+9BpgaVxCiogkiQyvAxzFEuAW59xmM/sQ8FPgvO43zWwSMAV40aN8IiIJKaEK3cxGAacDvzez7pezey12NfC4c64rntlERBJdQhU64SGgBudc4AOWuRq4LT5xRESSR0KdtuicawK2m9lVABa2oPv9yHh6HvC6RxFFRBKW16ctLiVczjPNrMrMbgQ+BdxoZpXAOmBxjy+5GnjUaYpIEZH38fS0RRERiZ6EGnIREZHj59lB0XHjxrnJkyd7tXkRkaS0atWq/c65/KO951mhT548mbKyMq82LyKSlMxs57He05CLiEiKUKGLiKQIFbqISIpQoYuIpAgVuohIilChi4ikCBW6iEiKUKGLJIGGw+088voOXtu6n1BI03XI0SXa9Lki0kNzawcPvrKDX/59G81tnQBMHD2MRYFCFgcKmV0wmh73DpAhToUukoCOtHfxyOs7+PnftlJ/uINL5kzk1nOnsePAYZaXV/PgK9tZ8vI2ZkwYxeJAEYsDhRTnjfA6tnjMs9kWS0tLXSpd+t/c2sHGvc0snJSnPSY5bm2dXTz61m7ufWkLdc1t/NOMfO6+aCbzinP/YbmDLe38cc0elpdXU7azHoCTJ+exOFDEZfMKyBuZ5UV8iQMzW+WcKz3qeyr049fRFeLlTXUsq6jh+fV7ae0I8eWLZ3LbuSd4HU2STGdXiCferubHL2ymuuEIp0wZw90XzeSUKWP6/NrdBw+zvKKaZRU1bKk9RGa68U8z8lkcKOKCEycwPCs9Dn8DiRcVehQ55yjf3cCy8mqeXr2Hgy3t5I3I5LL5BdQ1t/Hc+n384tpSLpg9weuokgRCIcdTq2v40V82s31/CwuKc7n74pmcecK4AX/Sc86xrqaJ5RXVrKisYV9TGyOz0rlkbgFXBAs5fdo40tP06THZqdCjYPv+FpaVV7OsopqdBw6TnZHGBbMncGWgiLNn5JOVkUZrRxdX/fx1tu9v4clbT2f6hByvYye06oYjTBw9bEiWjHOO59bv4wfPbWLjvmZmTczhSxfO4MLZE6IyZNcVcryx7QDLyqv589q9NLd1kp+TzUfmF3JFsJB5RbkaGkxSKvTjtP9QG09X1vBkRQ2Vuxswg9OnjeWKQBGXzJ1IzrDM933NnsYjfOQnrzIqO53lt51J7oj3LyOw9K1dfPWJNUwYHS6ZxYEi5hal/hkbzjn+vnk/339uI5VVjUwdN5I7L5zB5fMKSIvRL7bWji5e3FDLsvJqXtpYS0eXY2r+SBYvKOKKYCGTxo6MyXYlNlToA3CkvYvn1u9lWXk1L2/eT1fIcWLBaK4MFrJoQRETc4f1uY6yHQe55hdvcOrUsTx0/clkpOt0/55e2ljL5x4uo3RSHqOHZ/LX7pIZNzJyOl4RU8alXsm8tf0g33t2I2/tOEiRbzh3XDCdjwaL4vrz0Xi4g2fW7mFZeTVvbj8IQLDExxWBIi6fX8DYUdlxyyLHR4Xeh86uEK9tDX88fXbdXlrauyjMHcbiYBFXBIqYOXHgQye/W7mLr/xhDTedNYV/u2x2DFInp7XVjXzy/teZNHYkj91yGqOyM2g43M6f1u5leUW4ZJyD+cW5LFpQyKIFhYwf3fcv0URWubuB7z+/iZc31ZGfk80XzzuBT57sJzvD24OVNQ1HWFFZw7LyajbsbSY9zThr+jiuCBRx0ZwJjMjSWc2JSIV+FN0HkJ4sDx9AqmtuI2dYBpfNK+CKYBGnTB4z6I/AX1++lodf38n3r1rAxxYWRyl58qpuOMKV971KRprx5G1nMOEoRb2n8QhPV+5heWU1a6ub3h3mWrygiIvnTiR3ePIMYW3c28z3n9vIc+v3kTciky+cM41rT52ckGedbNjbxLLyGlZUVFPT2MrwzHQumjOBKwJFnDl9HJn6lJkwVOg97D54mBWVNTxZXv3uKV7nzhzPlcEizp01nmGZ0fvH1tEV4roH3mLVrnoe+/xpBPy+qK072TS1dnDVz16npuEIj3/h9H596tlSe4gVFdUsr6xh54HDZGWkcd7M8SwOFEb9/1U0bd/fwg+f38RTq2sYlZXBTWdP5bNnTD7qMZdEEwo5Vu44yLKKGv64uoam1k7Gjszi8vkFLA4WEfT7Uv44R6Ib8oXecDh8Ecay8mpW7ghfhHHK5DFcESziw/Mm4hsRu4swDra0s+jeV+joCvHU7Wcm/fDB8WjvDPHZX73Fm9sO8vANp3DGCeMG9PXOOSqrGlleUc1TlXvYf6iNnOwMLp47kcWBQk6bOjYhjlNU1R/mJy9s4fG3q8hKT+P6Mybz+bOnxvTnK5baOrv468Y6lldU85d3amnvDDFp7AgWLyhkcbCIafmjvI44JA3JQm/t6OKlDbU82ePI/gnjR3FlsIhFCwrxj4nfZdLv7GniYz97jRkTcnj05lMTds8yFpxz3PX7Sp54u5rvXbWAjw9y6KmzK8Qb2w6yvOK90/HGjcrm8vnhobIFxfE/Ha+2qZX7XtrC0rd2A/CpU0u49ZwTyM9JnQOMTa0d/DlynOO1rQdwDuYV5bI4kBrHOZLJoArdzB4ELgdqnXNzj/L+p4CvAAY0A19wzlX2FSoWhR4KOd7cHv7H/sc1e2huDZ97u3hBIVcEi5hT6N1pcX9as4cv/M/bfHxhMd/9+Pwh87H1h89v4scvbObOC6Zz5wUzorru7l/ayytqeHFDLe1d7+1BLgoUccL42O5B1re08/O/beXh13fQ2eW4qtTPF887gULf8Jhu12v7mlp5KjJsua6miTSDEwtGUzopj4WTx7BwUh5FKf498NJgC/1s4BDwyDEK/XTgHedcvZldCnzDOfehvkJFs9A37m0OH9yMHNAZmZXOxXMncmWwKKGujvvB85v47xc287XLZ3PDmVO8jhNzvy/bzZcfXx2XX2KNRzp4dt1eVlTUhKeYdTCncDSLA4V8ZEEhBbnRK5im1g4e+Pt2HnhlOy3tnVwRKOLOC6YPyfO5t9Q28/TqPby1/SAVuxs43N4FQEHuMBZOymPhpDxKJ43hxIKchBgWSwWDHnIxs8nA00cr9F7L5QFrnXNFfa1zsIW+t7GVFZXVPFlewzt7mkhP656/opALZyfmKVehkOOW36zihQ21PPzZUzhz+sDGkpPJK5v3c/1Db3Hq1LE8eP3JZGXE7x9zbVMrT63ew4qKaiqrGjGDD00Zw+JAEZfOPf5jJofbO3n4tZ3c//JWGg53cOnciXzpwhm6IjiisyvEhr3NlO04SNnOelbtrGdPYysAwzPTCfh9lE4Ol3ywJC+pzlhKJPEs9LuBWc65zx3j/ZuBmwFKSkoW7ty5s89t97Zq50F+8Pymd8fxAn4fVwaLuGx+AeOS4KKIQ22dfPSnr7KvqY0Vt5+Rknt1G/Y2cdXPXqcobziP3XIaoz08u2P7/hZWVNSwvKKabftbIhNXjeeKYCHnz+rfxFVtnV389s1d3PfSVvYfauPcmfncddFM5hbl9vm1Q11NwxHKdtbz9s56ynYe5J09zXSFHGYwY3wOCyfnsbAkj9LJeZSMGTFkhiIHIy6FbmbnAj8FznTOHehrnce7h75yx0G+/PtKrggWJe0VhTsPtLD4vlcZn5PNE7eewajsxPs0cbz2NrZy5U9fJeQcT956RsKMJzvnWFsdnrjqqdXvTVx18ZyJLAoUcuYJ4943JNDRFeIPq6r47xc2U9PYyqlTwzMglk7uewZEObqWtk4qdzdQtrOesp31lO+sf/fGHeNGZbNwko/SSWM4aVIec4tGe37xVSKKeaGb2XzgSeBS59ym/oQ63kLvzpvsv8lf3bKf6x58i/Nmjef+Ty+M2Twe8dTc2sEn7n+DXQdaeOyW05hTmJh7sF0hx5vbD7CiooZn1ux591zry+YXsDhQRMDv46nKGn70l03sOHCYgN/Hly+eyenTxib9z12i6Qo5Ntc2U7ajey++nl0HDwOQlZHGguJcToqMwy+clMcYzfMe20I3sxLgReA659xr/Q3l9ZWiieDBV7bzrafX8y/nT+dLF0b3DJB46+gKcePDZby6ZT8PXn8y/zQj3+tI/dJ9rvWKihr+8s4+2jpDjMhK53B7FycWjOauC2dw/onjVeRxVNvcGi73HfWs2lXP2upGOrrCPTU1f+S7QzQLJ41hWv7IIff/ZrBnuSwFzgHGAfuArwOZAM65n5vZL4GPAd0D4p3H2lhPKvTwp40vP76ax1dV8bNPncSl8wq8jnRcnHN89Yk1PLpyN//50XlcfUqJ15GOS3NrB8+t28erW/Zz3onj+fDc2M2AKP3X2tHF6qpGVu2sZ9XOg6zaWU/94Q4AfCMyWViSF9mLz2OB35fy13kMyQuLkkVbZxdXL3mDDXuaeeLW0zmxYLTXkQbs3hc3873nNnH7uSdw98UzvY4jKc45x7b9LazaET7QumpnPVvrWgDISDPmFOVSGin4RJ4i4nip0BNcbVMrH7n3FTLT01hx+5lJNU64rLyaO39XwRWBQn74ycCQ+/grieFgSztv7wwP0azaUU9lVQNtnSHuunAGXzx/utfxouqDCl1n+ieA8aOHcf+1pdQ2t3Hr/6yioyvkdaR+eW3rfr78eCWnTh3Dd4bQ1a+SeMaMzOKC2RP4yiWzeOyW01jzjYuZMWEUKyM30B4qVOgJIuD38R9XzuONbQf59tPrvY7Tp837mvn8r1cxaexI7v90qU4vk4SSlZHGwkljqNhVTyjkzSiEF1ToCeRjC4v53JlTePj1nTz61i6v4xxTbXMr1z+0kuyMdB66/mTdZk8SUtDvo6m1k+0HWryOEjcq9ARzz6WzOGv6OP59+VrKdhz0Os77tLR1csOvVnKwpZ0Hry+N66yVIgMRLPEBUL6rwdMc8aRCTzAZ6Wnce81JFPmGc8tv3qam4YjXkd7V2RXii0vLWV/TxL3/HGR+sc/rSCLHNC1/FDnZGVTsHjrj6Cr0BJQ7IpNfXFdKa0cXn//1Klo7uryOhHOObzy1jhc31PLNRXM4/8QJXkcS+UBpacYCv0976OK96RNy+NEnA6ytaeQrf1iNV6eXdlvy8jZ+88YuPn/2VK49bbKnWUT6K+D3sWFvM0favd8pigcVegK7YPYE7rpwBssraljy8jbPcjxVWcN//GkDl80v4CuXzPIsh8hABUt8dIUca6obvY4SFyr0BHfbuSdw2bwC/vPPG3hpY23ct79yx0HueqyS0kl5fP+qBboUXpJK943Zh8o4ugo9wZkZ371qPidOHM2/LC1na92huG17a90hbnqkjOK84fziutKUu4RaUt/YUdmUjBkxZMbRVehJYERWBkuuW0hmeho3PVJGU2tHzLe5/1Ab1z/0FulmPPTZk8lLoukIRHoK+H1U7G7wOkZcqNCTRHHeCH76qZPYdeAwdywtpyuGV78dae/ixofLqGtu45efKU3JuyrJ0BEs8bGnsZW9kdvhpTIVehI5depYvr5oDi9trOO7z26MyTa6Qo47Hi1ndVUDP746SLAkLybbEYmXoTSOrkJPMteeOol//lAJP//bVpZXVEd9/d/+43qeW7+Pf79sNhfPmRj19YvE2+zC0WSlpw2JcXQVehL6xkfmcMrkMfzr46tZUxW907EeeGU7D726gxvOmMINZ06J2npFvJSdkc7swtGUD4FxdBV6EsrKSOOnnz6JsSOzuPnX4bHuwfrz2j18+4/ruXjOBP7tshOjkFIkcQRLfKypaqQzSaamPl4q9CQ1blQ2S64rpf5wO1/4zSraO4//B/XtXfXc8WgFC4p9/OiTQdJ1rrmkmIDfx5GOLjbua/Y6Skyp0JPY3KJcvvvxBZTtrOfrK9Ye1/QAO/a38LmHy5iYO4wHPlPK8Cyday6p56TIwf1UH0dXoSe5jywo5NZzprH0rd385o2dfX9BDwdb2vnsr1YSco6Hrj+ZsaOyY5RSxFvFecMZOzJLhS6J766LZnLerPF886n1vL71QL++prWji5seKaO64Qi/vK6UqfmjYpxSxDtmRrDEl/KnLvZZ6Gb2oJnVmtnaY7xvZvbfZrbFzFab2UnRjykfJD3N+NHVASaNHcFtv32b3QcPf+DyoZDjrscqWbWznh9+IkDp5DFxSirinYDfx9a6FhoPx/5Ka6/0Zw/9V8AlH/D+pcD0yJ+bgZ8NPpYM1Ohh4TnUO7pC3PRIGYfbO4+57H/+eQN/XLOH//3hWVw2vyCOKUW8032RXGVVg7dBYqjPQnfOvQx80L3QFgOPuLA3AJ+ZqSU8MDV/FD+5Jsimfc3c/fvKox4kfeT1HSx5eRvXnjqJm86a6kFKEW/ML87FLLUPjEZjDL0I2N3jeVXktfcxs5vNrMzMyurq6qKwaentnJnjuefSWTyzZi/3vrjlH977y/p9fGPFOs6fNZ6vf2Q2Zjo9UYaOnGGZTB8/KqXH0eN6UNQ5t8Q5V+qcK83Pz4/npoeUm86aypXBIr7//CaeW7cXgNVVDXxxaTlzCnP5yT8HyUjX8XAZeoL+PCp2N3h+B7BYica/6mrA3+N5ceQ18YiZ8R8fncf84lz+1+8qeHHDPm741UrGjMzigetLGZGV4XVEEU8ESnzUH+5g54EPPnEgWUWj0FcA10XOdjkVaHTO7YnCemUQhmWmc/+1CxmelcENvyqjvTPEwzeczPicYV5HE/FMsMQHQHmKDrv057TFpcDrwEwzqzKzG83sFjO7JbLIM8A2YAvwC+DWmKWVASnIHc791y5kdsFollxXygnjc7yOJOKp6eNzGJmVTkWKHhjt87O3c+6aPt53wG1RSyRRtXBSHs/ccZbXMUQSQnqaMb/Yl7IzL+rImIgMKYESH+trmmjt6PI6StSp0EVkSAn6fXSGHOtqoncvgUShQheRISXQfWA0BcfRVegiMqSMzxlGkW94So6jq9BFZMgJlPhS8kwXFbqIDDlBv4/qhiPUNrd6HSWqVOgiMuR0X2CUanvpKnQRGXLmFOaSmW4pN46uQheRIWdYZjonFozWHrqISCoI+n2srmqgK5Q6My+q0EVkSAqU+Ghp72JzbbPXUaJGhS4iQ1LQH74lXSpdYKRCF5EhadLYEeSNyEypcXQVuogMSWZGwO9LqbnRVegiMmQF/Hlsrj1Ec2uH11GiQoUuIkNWsMSHc7C6KjVmXlShi8iQtcDvA6B8V2oMu6jQRWTIyh2eybT8kVSkyBWjKnQRGdKCJXmU72ogfDfN5KZCF5EhLeD3caClnar6I15HGTQVuogMad0zL76dAuPo/Sp0M7vEzDaa2RYzu+co75eY2UtmVm5mq83sw9GPKiISfTMn5DA8Mz0lxtH7LHQzSwfuAy4FZgPXmNnsXov9H+Ax51wQuBr4abSDiojEQkZ6GvOKc1NiCoD+7KGfAmxxzm1zzrUDjwKLey3jgNGRx7lATfQiiojEVtDvY31NE22dXV5HGZT+FHoRsLvH86rIaz19A/i0mVUBzwBfjEo6EZE4CJb4aO8Ksb6myesogxKtg6LXAL9yzhUDHwZ+bWbvW7eZ3WxmZWZWVldXF6VNi4gMTiAy82Kyj6P3p9CrAX+P58WR13q6EXgMwDn3OjAMGNd7Rc65Jc65UudcaX5+/vElFhGJsom5wyjIHZb04+j9KfSVwHQzm2JmWYQPeq7otcwu4HwAMzuRcKFrF1xEkkbA70v9PXTnXCdwO/As8A7hs1nWmdm3zGxRZLG7gJvMrBJYClzvUuGyKxEZMoIlPnYdPMyBQ21eRzluGf1ZyDn3DOGDnT1f+1qPx+uBM6IbTUQkfnqOo59/4gSP0xwfXSkqIgLMK8olPc2SehxdhS4iAgzPSmfWxJykHkdXoYuIRARLfFTubiAUSs5DgCp0EZGIgD+P5rZOttYd8jrKcVGhi4hEdM+8mKzj6Cp0EZGIKWNHMnpYBuVJOo6uQhcRiUhLMwIleUl7j1EVuohIDwG/j037mmlp6/Q6yoCp0EVEegiW+Ag5WF3V6HWUAVOhi4j0ECj2AVC+O/mGXVToIiI95I3MYsq4kVQk4ZkuKnQRkV4Cfh/luxtItjkGVegiIr0ES3zUNbdR09jqdZQBUaGLiPQSjMy8mGynL6rQRUR6mVWQQ3ZGWtKNo6vQRUR6yUxPY15RbtJdMapCFxE5ioDfx9rqRto7Q15H6TcVuojIUQRL8mjrDLFhb5PXUfpNhS4ichSByMyLyXTDCxW6iMhRFOYOY3xOdlJNpatCFxE5CjMj4PdpD11EJBUES/LYvr+F+pZ2r6P0S78K3cwuMbONZrbFzO45xjKfMLP1ZrbOzH4b3ZgiIvEX8PsAqKhq8DRHf/VZ6GaWDtwHXArMBq4xs9m9lpkOfBU4wzk3B7gz+lFFROJrfnEuaZY8t6Trzx76KcAW59w251w78CiwuNcyNwH3OefqAZxztdGNKSISfyOzM5gxISdpxtH7U+hFwO4ez6sir/U0A5hhZq+a2RtmdsnRVmRmN5tZmZmV1dXVHV9iEZE4CpbkUbGrnlAo8WdejNZB0QxgOnAOcA3wCzPz9V7IObfEOVfqnCvNz8+P0qZFRGIn6PfR1NrJ9gMtXkfpU38KvRrw93heHHmtpypghXOuwzm3HdhEuOBFRJJaMHKBUTKMo/en0FcC081sipllAVcDK3ots4zw3jlmNo7wEMy26MUUEfHGtPxR5GRnUJEEt6Trs9Cdc53A7cCzwDvAY865dWb2LTNbFFnsWeCAma0HXgK+7Jw7EKvQIiLxkpZmLPD7kmIPPaM/CznnngGe6fXa13o8dsCXIn9ERFJKwO/jZ3/bypH2LoZnpXsd55h0paiISB+CJT66Qo411Y1eR/lAKnQRkT68e8Vogo+jq9BFRPowdlQ2JWNGJPw4ugpdRKQfAklwYFSFLiLSD8ESH3ubWtnTeMTrKMekQhcR6YdgSR4AFQm8l65CFxHphxMLcshKT0voibpU6CIi/ZCdkc6cotEJPY6uQhcR6aeA38fq6gY6u0JeRzkqFbqISD8FS/Jo7QixYW+z11GOSoUuItJPwXcvMGrwNMexqNBFRPqpOG8440ZlJew4ugpdRKSfzIyA35ewUwCo0EVEBiBYksfWuhYaD3d4HeV9VOgiIgPQPVFXZVWDpzmORoUuIjIA84tzMUvMW9Kp0EVEBiBnWCbTx49KyHF0FbqIyAAF/XlU7G4gfLO2xKFCFxEZoECJj/rDHew8cNjrKP9AhS4iMkDBEh8A5Qk27KJCFxEZoOnjcxiZlZ5wU+n2q9DN7BIz22hmW8zsng9Y7mNm5sysNHoRRUQSS3qaMb/YR3mCTQHQZ6GbWTpwH3ApMBu4xsxmH2W5HOAO4M1ohxQRSTSBEh/ra5po7ejyOsq7+rOHfgqwxTm3zTnXDjwKLD7Kcv8X+A7QGsV8IiIJKej30RlyrKtp9DrKu/pT6EXA7h7PqyKvvcvMTgL8zrk/ftCKzOxmMyszs7K6uroBhxURSRSB7gOjCTSOPuiDomaWBvwAuKuvZZ1zS5xzpc650vz8/MFuWkTEM+NzhlHkG55Q4+j9KfRqwN/jeXHktW45wFzgr2a2AzgVWKEDoyKS6gIlvoQ606U/hb4SmG5mU8wsC7gaWNH9pnOu0Tk3zjk32Tk3GXgDWOScK4tJYhGRBBH0+6huOEJtU2IcOuyz0J1zncDtwLPAO8Bjzrl1ZvYtM1sU64AiIonqvQuMGjzN0S2jPws5554Bnun12teOsew5g48lIpL45hTmkpluVOxu4OI5E72OoytFRUSO17DMdGYXjKZ8V2JMAaBCFxEZhIDfx+qqRrpC3s+8qEIXERmEYEkeh9u72LSv2esoKnQRkcHoviVdRQIcGFWhi4gMwqSxI8gbkZkQ4+gqdBGRQTAzAn6f9tBFRFJBsCSPzbWHaG7t8DSHCl1EZJACfh/Oweoqb2deVKGLiAzSgsiBUa/H0VXoIiKDlDs8k2n5Iz0fR1ehi4hEQbAkj/JdDTjn3QVGKnQRkSgI+H0caGmnqv6IZxlU6CIiUdA98+LbHo6jq9BFRKJg5oQchmemezqOrkIXEYmCjPQ05hXnenqPURW6iEiUBP0+1tc00dbZ5cn2VegiIlESLPHR3hVifU2TJ9tXoYuIREnAnwd4N/OiCl1EJEom5g6jIHeYZ+PoKnQRkSjycuZFFbqISBQFS3zsOniYA4fa4r5tFbqISBR5OY7er0I3s0vMbKOZbTGze47y/pfMbL2ZrTazF8xsUvSjiogkvnlFuaSnmSfj6H0WupmlA/cBlwKzgWvMbHavxcqBUufcfOBx4L+iHVREJBkMz0pn1sQcynfHfwqA/uyhnwJscc5tc861A48Ci3su4Jx7yTl3OPL0DaA4ujFFRJJHsMRH5e5GukLxnXmxP4VeBOzu8bwq8tqx3Aj86WhvmNnNZlZmZmV1dXX9TykikkSC/jwOtXWyte5QXLcb1YOiZvZpoBT47tHed84tcc6VOudK8/Pzo7lpEZGEEYjMvFgR53H0/hR6NeDv8bw48to/MLMLgH8DFjnn4n++johIgpgydiS5wzPjPo7en0JfCUw3sylmlgVcDazouYCZBYH7CZd5bfRjiogkj7Q0Y4HfF/czXfosdOdcJ3A78CzwDvCYc26dmX3LzBZFFvsuMAr4vZlVmNmKY6xORGRICPp9bNrXTEtbZ9y2mdGfhZxzzwDP9Hrtaz0eXxDlXCIiSS1Q4iPkYHVVI6dNGxuXbepKURGRGAgU+wDiOo6uQhcRiYG8kVlMGTcyrme6qNBFRGIk6PdRvrsB5+JzgZEKXUQkRgIlPuqa26hpbI3L9lToIiIxEozMvFi+Kz7j6Cp0EZEYmVWQQ3ZGWtzG0VXoIiIxkpmexryiXMrjNDe6Cl1EJIYCfh9rqxtp7wzFfFsqdBGRGAqW5NHWGWLD3qaYb0uFLiISQ+/OvBiHYRcVuohIDBXmDmN8TnZcJupSoYuIxJCZEfD7tIcuIpIKgiV5bN/fQn1Le0y3o0IXEYmxgN8HQEVVQ0y3o0IXEYmx+cW5pBkxH0dXoYuIxNjI7AxmTMiJ+Ti6Cl1EJA6CJXlU7KonFIrdzIsqdBGROAj6fTS1drJtf0vMtqFCFxGJg2AcLjBSoYuIxMG0/FHkZGfEdCpdFbqISBykpRkLYnyBUb8K3cwuMbONZrbFzO45yvvZZva7yPtvmtnkqCcVEUlywRIfG/Y2c6S9Kybr77PQzSwduA+4FJgNXGNms3stdiNQ75w7Afgh8J1oBxURSXYBv4+ukGNNdWNM1t+fPfRTgC3OuW3OuXbgUWBxr2UWAw9HHj8OnG9mFr2YIiLJr/uK0ViNo/en0IuA3T2eV0VeO+oyzrlOoBEY23tFZnazmZWZWVldXd3xJRYRSVJjR2WzOFDIhNHDYrL+jJis9Ricc0uAJQClpaWxO7teRCRB/fjqYMzW3Z899GrA3+N5ceS1oy5jZhlALnAgGgFFRKR/+lPoK4HpZjbFzLKAq4EVvZZZAXwm8vjjwIvOOe2Bi4jEUZ9DLs65TjO7HXgWSAcedM6tM7NvAWXOuRXAA8CvzWwLcJBw6YuISBz1awzdOfcM8Eyv177W43ErcFV0o4mIyEDoSlERkRShQhcRSREqdBGRFKFCFxFJEebV2YVmVgfsPM4vHwfsj2KcaEnUXJC42ZRrYJRrYFIx1yTnXP7R3vCs0AfDzMqcc6Ve5+gtUXNB4mZTroFRroEZark05CIikiJU6CIiKSJZC32J1wGOIVFzQeJmU66BUa6BGVK5knIMXURE3i9Z99BFRKQXFbqISIpImEI3M7+ZvWRm681snZndEXl9jJk9b2abI//Ni7w+y8xeN7M2M7u7x3qGmdlbZlYZWc83EyFXj/Wlm1m5mT2dKLnMbIeZrTGzCjMrS6BcPjN73Mw2mNk7Znaa17nMbGbk+9T9p8nM7vQ6V+S9/xVZx1ozW2pmx31bnCjnuiOSad1gvlfHmetTZrY68vP9mpkt6LGuS8xso4Vvbn9PAuV60MxqzWztgIM45xLiD1AAnBR5nANsInxT6v8C7om8fg/wncjj8cDJwP8D7u6xHgNGRR5nAm8Cp3qdq8f6vgT8Fng6Eb5fkfd2AOMS6f9j5L2Hgc9FHmcBvkTI1WOd6cBewhd6eP1zXwRsB4ZHnj8GXJ8AueYCa4ERhGd3/QtwQhxznQ7kRR5fCrzZ4//dVmBq5GerEpjtda7I87OBk4C1A85xvH+BWP8BlgMXAhuBgh7ftI29lvvGB/yDGwG8DXwoEXIRvtvTC8B5DLLQo5xrB1Eq9GjlInzXq+1EDtwnSq5e710EvJoIuXjvvr5jCBfn08BFCZDrKuCBHs//HfjXeOeKvJ4HVEcenwY82+O9rwJf9TpXj9cmcxyFnjBDLj2Z2WQgSHjveoJzbk/krb3AhH58fbqZVQC1wPPOuTcTIRfwI+BfgVA08kQxlwOeM7NVZnZzguSaAtQBD1l4iOqXZjYyAXL1dDWwNBqZBpvLOVcNfA/YBewBGp1zz3mdi/De+VlmNtbMRgAf5h9vaRnPXDcCf4o8fvfG9hFVkde8zjUoCVfoZjYK+ANwp3Ouqed7Lvyrq8/zLJ1zXc65AOE94lPMbK7XuczscqDWObdqsFmimSviTOfcSYQ/+t1mZmcnQK4Mwh87f+acCwIthD+yep2rez1ZwCLg94PNFI1ckbHZxYR/ERYCI83s017ncs69A3wHeA74M1ABdMU7l5mdS7g4vzLYbSdyroQqdDPLJPzN+B/n3BORl/eZWUHk/QLCe9394pxrAF4CLkmAXGcAi8xsB/AocJ6Z/SYBcnXv3eGcqwWeBE5JgFxVQFWPT1ePEy54r3N1uxR42zm3bzCZopjrAmC7c67OOdcBPEF4nNbrXDjnHnDOLXTOnQ3UEx5fjlsuM5sP/BJY7Jzrvnn9uze2jyiOvOZ1rkFJmEI3MyN8b9J3nHM/6PFWzxtQf4bw2NQHrSffzHyRx8MJj2Nt8DqXc+6rzrli59xkwh/VX3TOHfceVBS/XyPNLKf7MeFx4YEfXY9yLufcXmC3mc2MvHQ+sN7rXD1cQxSGW6KYaxdwqpmNiKzzfOCdBMiFmY2P/LcE+CjhkwLikiuyzSeAa51zPX+RrASmm9mUyKetqyPr8DrX4ETrIMBg/wBnEv44sprwx7IKwuNtYwkfSNxM+Aj5mMjyEwnvxTUBDZHHo4H5QHlkPWuBryVCrl7rPIfBn+USre/XVMJH+CuBdcC/JUKuyHsBoCyyrmVEzgpIgFwjgQNAbqL83Efe+ybhnZe1wK+B7ATJ9XfCv4wrgfPj/P36JeFPBd3LlvVY14cJf1rYSvx/7j8o11LCx0E6It/HG/ubQ5f+i4ikiIQZchERkcFRoYuIpAgVuohIilChi4ikCBW6iEiKUKHLkGBmXRaeHXGdhWfivMvM0nots8zM3og8vtjem1HxkIVn5asws0fM7Bwza7R/nHXxAm/+ZiLv0WmLMiSY2SHn3KjI4/GEL2551Tn39chrPmANcAi4zDm3rcfX/pXwhFNlkefnRJ5fHse/gkiftIcuQ44LT3FwM3B75Ao/CF/B+BThaRmu9iqbyGCo0GVIiuyBpxOexxveu5R/aeRxX87qNeQyLUZRRfotw+sAIl4zswnAdOAV55wzsw4zm+uc+6A5bf6uIRdJNNpDlyHJzKYSnsa1FvgE4ZsMbI/MhjmZ/u2liyQUFboMOWaWD/wcuNeFzwq4BrjEOTfZhWfDXIjG0SUJachFhorhFr6LVSbQSXg2wh9E7i4zCXije0Hn3PbIaYkfcse+29VZkfV1+7Zz7vGYJBfpJ522KCKSIjTkIiKSIlToIiIpQoUuIpIiVOgiIilChS4ikiJU6CIiKUKFLiKSIv4/ezT4qfzo/1kAAAAASUVORK5CYII=\n"
          },
          "metadata": {
            "needs_background": "light"
          }
        }
      ]
    },
    {
      "cell_type": "markdown",
      "source": [
        "**conclution**"
      ],
      "metadata": {
        "id": "1mRSpcxoLUds"
      }
    },
    {
      "cell_type": "markdown",
      "source": [
        "From this dataset of windmill generation . we observe some month (4 to 10) generate high value of electricity . Because of that particular months is summer season, that season had more wind season"
      ],
      "metadata": {
        "id": "71lhdVauOREM"
      }
    }
  ]
}
